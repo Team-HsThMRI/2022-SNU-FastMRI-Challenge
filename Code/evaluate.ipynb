{
 "cells": [
  {
   "cell_type": "code",
   "source": [
    "from google.colab import drive\n",
    "drive.mount('/content/drive')"
   ],
   "metadata": {
    "colab": {
     "base_uri": "https://localhost:8080/"
    },
    "id": "QnZQMWoI4qIF",
    "executionInfo": {
     "status": "ok",
     "timestamp": 1660992002369,
     "user_tz": -540,
     "elapsed": 2320,
     "user": {
      "displayName": "Hyunsoo Lee",
      "userId": "03042612597258919573"
     }
    },
    "outputId": "57d6947e-eee7-4fa2-961b-fbc51ea51265"
   },
   "execution_count": 1,
   "outputs": [
    {
     "output_type": "stream",
     "name": "stdout",
     "text": [
      "Drive already mounted at /content/drive; to attempt to forcibly remount, call drive.mount(\"/content/drive\", force_remount=True).\n"
     ]
    }
   ]
  },
  {
   "cell_type": "code",
   "execution_count": null,
   "outputs": [],
   "source": [
    "import sys\n",
    "sys.path.append('/content/drive/MyDrive/FastMRI_LHS/FastMRI_challenge-2022_varnet')"
   ],
   "metadata": {
    "collapsed": false,
    "pycharm": {
     "name": "#%%\n"
    }
   }
  },
  {
   "cell_type": "code",
   "execution_count": null,
   "outputs": [],
   "source": [
    "%cd /content/drive/MyDrive/FastMRI_LHS/FastMRI_challenge-2022_varnet"
   ],
   "metadata": {
    "collapsed": false,
    "pycharm": {
     "name": "#%%\n"
    }
   }
  },
  {
   "cell_type": "code",
   "execution_count": null,
   "outputs": [],
   "source": [
    "import argparse\n",
    "from pathlib import Path\n",
    "import os, sys\n",
    "if os.getcwd() + '/utils/model/' not in sys.path:\n",
    "    sys.path.insert(1, os.getcwd() + '/utils/model/')\n",
    "\n",
    "# from utils.learning.test_part_kspace_mod import forward\n",
    "from utils.learning.test_part import forward\n",
    "\n",
    "\n",
    "def parse():\n",
    "    parser = argparse.ArgumentParser(description='Test Unet on FastMRI challenge Images',\n",
    "                                    formatter_class=argparse.ArgumentDefaultsHelpFormatter)\n",
    "    parser.add_argument('-g', '--GPU-NUM', type=int, default=0, help='GPU number to allocate')\n",
    "    parser.add_argument('-b', '--batch-size', type=int, default=1, help='Batch size')\n",
    "    parser.add_argument('-n', '--net-name', type=Path, default='test_for_leaderboard', help='Name of network')\n",
    "    parser.add_argument('-p', '--data-path-kspace', type=Path, default='/content/drive/MyDrive/FastMRI_LHS/leaderboard', help='Directory of test kspace data')\n",
    "    parser.add_argument('-i', '--data-path-image', type=Path, default='/content/drive/MyDrive/FastMRI_LHS/leaderboard/image', help='Directory of test image data')\n",
    "    \n",
    "    parser.add_argument('--in-chans', type=int, default=1, help='Size of input channels for network')\n",
    "    parser.add_argument('--out-chans', type=int, default=1, help='Size of output channels for network')\n",
    "    parser.add_argument('--cascade1', type=int, default=6)\n",
    "    parser.add_argument('--cascade2', type=int, default=5, help='Number of cascades | Should be less than 12')  ## important hyperparameter\n",
    "\n",
    "    parser.add_argument(\"--input-key\", type=str, default='kspace', help='Name of input key')\n",
    "    parser.add_argument(\"--input-key-1\", type=str, default='image_input', help='Name of input key')\n",
    "    parser.add_argument(\"--input-key-2\", type=str, default='image_grappa', help='Name of input key')\n",
    "    parser.add_argument('--target-key', type=str, default='image_label', help='Name of target key')\n",
    "    parser.add_argument('--max-key', type=str, default='max', help='Name of max key in attributes')\n",
    "    parser.add_argument('--input-key-image', type=str, default='image_input', help='Name of input key')\n",
    "    parser.add_argument('-f', default=None)\n",
    "\n",
    "\n",
    "    args = parser.parse_args()\n",
    "    return args\n",
    "\n",
    "\n",
    "if __name__ == '__main__':\n",
    "    args = parse()\n",
    "    args.exp_dir = '/content/drive/MyDrive/FastMRI_LHS/result/result_leaderboard' / args.net_name / 'checkpoints'\n",
    "    args.forward_dir = '/content/drive/MyDrive/FastMRI_LHS/result/result_leaderboard' / args.net_name / 'reconstructions_forward'\n",
    "    #args.main_dir = '/content/drive/MyDrive/leaderboard/result_leaderboard' / args.net_name / __file__\n",
    "    print(args.forward_dir)\n",
    "    forward(args)\n"
   ],
   "metadata": {
    "collapsed": false,
    "pycharm": {
     "name": "#%%\n"
    }
   }
  },
  {
   "cell_type": "code",
   "execution_count": null,
   "outputs": [],
   "source": [
    "%cd /content/drive/MyDrive/FastMRI_LHS/result/result_leaderboard/test_for_leaderboard/checkpoints/"
   ],
   "metadata": {
    "collapsed": false,
    "pycharm": {
     "name": "#%%\n"
    }
   }
  },
  {
   "cell_type": "code",
   "execution_count": null,
   "outputs": [],
   "source": [],
   "metadata": {
    "collapsed": false,
    "pycharm": {
     "name": "#%%\n"
    }
   }
  },
  {
   "cell_type": "code",
   "source": [
    "%cd /content/drive/MyDrive/FastMRI_LHS/result/result_leaderboard/test_for_leaderboard/checkpoints/"
   ],
   "metadata": {
    "id": "PcSyYNCG__oK"
   },
   "execution_count": null,
   "outputs": []
  },
  {
   "cell_type": "code",
   "source": [
    ""
   ],
   "metadata": {
    "id": "IS0sqwVFBCsN"
   },
   "execution_count": null,
   "outputs": []
  }
 ],
 "metadata": {
  "accelerator": "GPU",
  "colab": {
   "machine_shape": "hm",
   "name": "evaluate.ipynb",
   "provenance": [],
   "collapsed_sections": []
  },
  "gpuClass": "standard",
  "kernelspec": {
   "display_name": "Python 3",
   "name": "python3"
  },
  "language_info": {
   "name": "python"
  }
 },
 "nbformat": 4,
 "nbformat_minor": 0
}