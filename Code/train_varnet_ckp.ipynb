{
 "cells": [
  {
   "cell_type": "code",
   "execution_count": 1,
   "metadata": {
    "id": "rdG_tt8z1l8Q",
    "colab": {
     "base_uri": "https://localhost:8080/"
    },
    "executionInfo": {
     "status": "ok",
     "timestamp": 1660822613660,
     "user_tz": -540,
     "elapsed": 70390,
     "user": {
      "displayName": "권태희",
      "userId": "17333767985942163312"
     }
    },
    "outputId": "eab7bc9b-4302-4d00-ff21-0bd0f7882b3e",
    "pycharm": {
     "name": "#%%\n"
    }
   },
   "outputs": [
    {
     "output_type": "stream",
     "name": "stdout",
     "text": [
      "Drive already mounted at /content/drive; to attempt to forcibly remount, call drive.mount(\"/content/drive\", force_remount=True).\n"
     ]
    }
   ],
   "source": [
    "from google.colab import drive\n",
    "drive.mount('/content/drive')"
   ]
  },
  {
   "cell_type": "code",
   "execution_count": 2,
   "metadata": {
    "id": "ez_54u2F10e5",
    "executionInfo": {
     "status": "ok",
     "timestamp": 1660822613662,
     "user_tz": -540,
     "elapsed": 53,
     "user": {
      "displayName": "권태희",
      "userId": "17333767985942163312"
     }
    },
    "pycharm": {
     "name": "#%%\n"
    }
   },
   "outputs": [],
   "source": [
    "import sys\n",
    "sys.path.append('/content/drive/MyDrive/2022 FastMRI/FastMRI_challenge-2022_varnet')"
   ]
  },
  {
   "cell_type": "code",
   "execution_count": 3,
   "metadata": {
    "id": "BhiWVn5F11JA",
    "colab": {
     "base_uri": "https://localhost:8080/"
    },
    "executionInfo": {
     "status": "ok",
     "timestamp": 1660822613666,
     "user_tz": -540,
     "elapsed": 54,
     "user": {
      "displayName": "권태희",
      "userId": "17333767985942163312"
     }
    },
    "outputId": "2b049e97-f725-45b5-ecad-791c2b7cc3fb",
    "pycharm": {
     "name": "#%%\n"
    }
   },
   "outputs": [
    {
     "output_type": "stream",
     "name": "stdout",
     "text": [
      "/content/drive/MyDrive/2022 FastMRI/FastMRI_challenge-2022_varnet\n"
     ]
    }
   ],
   "source": [
    "%cd /content/drive/MyDrive/2022 FastMRI/FastMRI_challenge-2022_varnet"
   ]
  },
  {
   "cell_type": "code",
   "source": [
    "!nvidia-smi"
   ],
   "metadata": {
    "id": "jmcLEGj7TnTK",
    "colab": {
     "base_uri": "https://localhost:8080/"
    },
    "executionInfo": {
     "status": "ok",
     "timestamp": 1660822613667,
     "user_tz": -540,
     "elapsed": 47,
     "user": {
      "displayName": "권태희",
      "userId": "17333767985942163312"
     }
    },
    "outputId": "d6f7f13b-2049-4f44-cf9d-fa83e23243f1",
    "pycharm": {
     "name": "#%%\n"
    }
   },
   "execution_count": 4,
   "outputs": [
    {
     "output_type": "stream",
     "name": "stdout",
     "text": [
      "Thu Aug 18 11:36:52 2022       \n",
      "+-----------------------------------------------------------------------------+\n",
      "| NVIDIA-SMI 460.32.03    Driver Version: 460.32.03    CUDA Version: 11.2     |\n",
      "|-------------------------------+----------------------+----------------------+\n",
      "| GPU  Name        Persistence-M| Bus-Id        Disp.A | Volatile Uncorr. ECC |\n",
      "| Fan  Temp  Perf  Pwr:Usage/Cap|         Memory-Usage | GPU-Util  Compute M. |\n",
      "|                               |                      |               MIG M. |\n",
      "|===============================+======================+======================|\n",
      "|   0  Tesla P100-PCIE...  Off  | 00000000:00:04.0 Off |                    0 |\n",
      "| N/A   45C    P0    29W / 250W |      0MiB / 16280MiB |      0%      Default |\n",
      "|                               |                      |                  N/A |\n",
      "+-------------------------------+----------------------+----------------------+\n",
      "                                                                               \n",
      "+-----------------------------------------------------------------------------+\n",
      "| Processes:                                                                  |\n",
      "|  GPU   GI   CI        PID   Type   Process name                  GPU Memory |\n",
      "|        ID   ID                                                   Usage      |\n",
      "|=============================================================================|\n",
      "|  No running processes found                                                 |\n",
      "+-----------------------------------------------------------------------------+\n"
     ]
    }
   ]
  },
  {
   "cell_type": "code",
   "execution_count": null,
   "metadata": {
    "id": "E_nhDPfIyGMS",
    "colab": {
     "base_uri": "https://localhost:8080/"
    },
    "outputId": "54a06c11-9c5e-481b-b1ee-afd773743c29",
    "pycharm": {
     "name": "#%%\n"
    }
   },
   "outputs": [
    {
     "output_type": "stream",
     "name": "stdout",
     "text": [
      "Current cuda device:  0\n",
      "64\n",
      "144\n",
      "144\n",
      "144\n",
      "144\n",
      "144\n",
      "144\n",
      "0.02831272111179364\n",
      "/content/drive/MyDrive/train_real/kspace/brain1.h5\n",
      "/content/drive/MyDrive/train_real/kspace/brain10.h5\n"
     ]
    }
   ],
   "source": [
    "import torch\n",
    "import argparse\n",
    "import shutil\n",
    "import os, sys\n",
    "\n",
    "if os.getcwd() + '/utils/model/' not in sys.path:\n",
    "    sys.path.insert(1, os.getcwd() + '/utils/model/')\n",
    "\n",
    "from utils.learning.train_part_ckp import train\n",
    "from pathlib import Path\n",
    "from utils.model.random_seed import seed_fix\n",
    "\n",
    "\n",
    "def parse():\n",
    "    parser = argparse.ArgumentParser(description='Train Unet on FastMRI challenge Images',\n",
    "                                     formatter_class=argparse.ArgumentDefaultsHelpFormatter)\n",
    "    parser.add_argument('-g', '--GPU-NUM', type=int, default=0, help='GPU number to allocate')\n",
    "    parser.add_argument('-b', '--batch-size', type=int, default=1, help='Batch size')\n",
    "    parser.add_argument('-e', '--num-epochs', type=int, default=100, help='Number of epochs')\n",
    "    parser.add_argument('-l', '--lr', type=float, default=1e-4, help='Learning rate')\n",
    "    parser.add_argument('-r', '--report-interval', type=int, default=500, help='Report interval')\n",
    "    parser.add_argument('-n', '--net-name', type=Path, default='test_varnet', help='Name of network')\n",
    "    # parser.add_argument('-t', '--data-path-train', type=Path, default='/content/drive/Shareddrives/2022 FastMRI/train_real/', help='Directory of train data')\n",
    "    # parser.add_argument('-v', '--data-path-val', type=Path, default='/content/drive/Shareddrives/2022 FastMRI/val_real/', help='Directory of validation data')\n",
    "    parser.add_argument('-t', '--data-path-train', type=Path, default='/content/drive/MyDrive/train_real/', help='Directory of train data')\n",
    "    parser.add_argument('-v', '--data-path-val', type=Path, default='/content/drive/MyDrive/val_real/', help='Directory of validation data')\n",
    "    \n",
    "    parser.add_argument('--cascade', type=int, default=6,\n",
    "                        help='Number of cascades | Should be less than 12')  ## important hyperparameter\n",
    "    parser.add_argument('--input-key', type=str, default='kspace', help='Name of input key')\n",
    "    parser.add_argument('--target-key', type=str, default='image_label', help='Name of target key')\n",
    "    parser.add_argument('--max-key', type=str, default='max', help='Name of max key in attributes')\n",
    "\n",
    "    parser.add_argument('-f')\n",
    "\n",
    "    args = parser.parse_args()\n",
    "    return args\n",
    "\n",
    "\n",
    "if __name__ == '__main__':\n",
    "    args = parse()\n",
    "    args.exp_dir = '../result_varnet' / args.net_name / 'checkpoints'\n",
    "    args.val_dir = '../result_varnet' / args.net_name / 'reconstructions_val'\n",
    "    #args.main_dir = '../result_varnet' / args.net_name / __file__\n",
    "\n",
    "    args.exp_dir.mkdir(parents=True, exist_ok=True)\n",
    "    args.val_dir.mkdir(parents=True, exist_ok=True)\n",
    "\n",
    "    seed_fix(42)\n",
    "    train(args)"
   ]
  }
 ],
 "metadata": {
  "colab": {
   "collapsed_sections": [],
   "machine_shape": "hm",
   "name": "train_ckp.ipynb",
   "provenance": [],
   "mount_file_id": "13OZnHzjYIkigI7E0YbHXv00FWhxyVrpB",
   "authorship_tag": "ABX9TyOF4EquvUXw4g6JqKPbRLtk"
  },
  "gpuClass": "standard",
  "kernelspec": {
   "display_name": "Python 3",
   "name": "python3"
  },
  "language_info": {
   "name": "python"
  },
  "accelerator": "GPU"
 },
 "nbformat": 4,
 "nbformat_minor": 0
}