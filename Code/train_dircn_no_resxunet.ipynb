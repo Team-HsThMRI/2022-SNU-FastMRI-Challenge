{
 "cells": [
  {
   "cell_type": "code",
   "execution_count": 1,
   "metadata": {
    "colab": {
     "base_uri": "https://localhost:8080/"
    },
    "executionInfo": {
     "elapsed": 2141,
     "status": "ok",
     "timestamp": 1660693411224,
     "user": {
      "displayName": "이현수",
      "userId": "05273941383590050503"
     },
     "user_tz": -540
    },
    "id": "dA0EwiiSXNOG",
    "outputId": "92b2d1ec-5aaa-4f43-800d-09cfe1c6be9e",
    "pycharm": {
     "name": "#%%\n"
    }
   },
   "outputs": [
    {
     "output_type": "stream",
     "name": "stdout",
     "text": [
      "Drive already mounted at /content/drive; to attempt to forcibly remount, call drive.mount(\"/content/drive\", force_remount=True).\n"
     ]
    }
   ],
   "source": [
    "from google.colab import drive\n",
    "drive.mount('/content/drive')"
   ]
  },
  {
   "cell_type": "code",
   "execution_count": 2,
   "metadata": {
    "id": "GJNBd-diXbg0",
    "executionInfo": {
     "status": "ok",
     "timestamp": 1660693411224,
     "user_tz": -540,
     "elapsed": 12,
     "user": {
      "displayName": "이현수",
      "userId": "05273941383590050503"
     }
    },
    "pycharm": {
     "name": "#%%\n"
    }
   },
   "outputs": [],
   "source": [
    "import sys\n",
    "# sys.path.append('/root/fastMRI')\n",
    "sys.path.append('/content/drive/MyDrive/FastMRI_LHS/FastMRI_challenge-2022_varnet')"
   ]
  },
  {
   "cell_type": "code",
   "execution_count": 3,
   "metadata": {
    "colab": {
     "base_uri": "https://localhost:8080/"
    },
    "executionInfo": {
     "elapsed": 12,
     "status": "ok",
     "timestamp": 1660693411225,
     "user": {
      "displayName": "이현수",
      "userId": "05273941383590050503"
     },
     "user_tz": -540
    },
    "id": "k_G-RwXSXgLA",
    "outputId": "0854caee-ec43-4009-f8de-585ed423ad95",
    "pycharm": {
     "name": "#%%\n"
    }
   },
   "outputs": [
    {
     "output_type": "stream",
     "name": "stdout",
     "text": [
      "/content/drive/MyDrive/FastMRI_LHS/FastMRI_challenge-2022_varnet\n"
     ]
    }
   ],
   "source": [
    "%cd /content/drive/MyDrive/FastMRI_LHS/FastMRI_challenge-2022_varnet"
   ]
  },
  {
   "cell_type": "code",
   "execution_count": 4,
   "metadata": {
    "colab": {
     "base_uri": "https://localhost:8080/"
    },
    "executionInfo": {
     "elapsed": 517,
     "status": "ok",
     "timestamp": 1660693411732,
     "user": {
      "displayName": "이현수",
      "userId": "05273941383590050503"
     },
     "user_tz": -540
    },
    "id": "EdQ9Zd07XkDj",
    "outputId": "e963d842-5384-4fd3-bb2e-0847fcd073f5",
    "pycharm": {
     "name": "#%%\n"
    }
   },
   "outputs": [
    {
     "output_type": "stream",
     "name": "stdout",
     "text": [
      "Tue Aug 16 23:43:31 2022       \n",
      "+-----------------------------------------------------------------------------+\n",
      "| NVIDIA-SMI 460.32.03    Driver Version: 460.32.03    CUDA Version: 11.2     |\n",
      "|-------------------------------+----------------------+----------------------+\n",
      "| GPU  Name        Persistence-M| Bus-Id        Disp.A | Volatile Uncorr. ECC |\n",
      "| Fan  Temp  Perf  Pwr:Usage/Cap|         Memory-Usage | GPU-Util  Compute M. |\n",
      "|                               |                      |               MIG M. |\n",
      "|===============================+======================+======================|\n",
      "|   0  Tesla P100-PCIE...  Off  | 00000000:00:04.0 Off |                    0 |\n",
      "| N/A   50C    P0    40W / 250W |      0MiB / 16280MiB |      0%      Default |\n",
      "|                               |                      |                  N/A |\n",
      "+-------------------------------+----------------------+----------------------+\n",
      "                                                                               \n",
      "+-----------------------------------------------------------------------------+\n",
      "| Processes:                                                                  |\n",
      "|  GPU   GI   CI        PID   Type   Process name                  GPU Memory |\n",
      "|        ID   ID                                                   Usage      |\n",
      "|=============================================================================|\n",
      "|  No running processes found                                                 |\n",
      "+-----------------------------------------------------------------------------+\n"
     ]
    }
   ],
   "source": [
    "!nvidia-smi"
   ]
  },
  {
   "cell_type": "code",
   "execution_count": 5,
   "metadata": {
    "colab": {
     "base_uri": "https://localhost:8080/",
     "height": 1000
    },
    "id": "K_4XZfjmXoN3",
    "executionInfo": {
     "status": "error",
     "timestamp": 1660708309932,
     "user_tz": -540,
     "elapsed": 12796907,
     "user": {
      "displayName": "이현수",
      "userId": "05273941383590050503"
     }
    },
    "outputId": "ba62f193-d866-4d73-f20e-efc1b4cbb76a",
    "pycharm": {
     "name": "#%%\n"
    }
   },
   "outputs": [
    {
     "metadata": {
      "tags": null
     },
     "name": "stdout",
     "output_type": "stream",
     "text": [
      "Current cuda device:  0\n",
      "Epoch # 0 ............... test_dircn ...............\n"
     ]
    },
    {
     "metadata": {
      "tags": null
     },
     "name": "stderr",
     "output_type": "stream",
     "text": [
      "/content/drive/MyDrive/FastMRI_LHS/FastMRI_challenge-2022_varnet/utils/model/dircn/dircn.py:214: UserWarning: __floordiv__ is deprecated, and its behavior will change in a future version of pytorch. It currently rounds toward 0 (like the 'trunc' function NOT 'floor'). This results in incorrect rounding for negative values. To keep the current behavior, use torch.div(a, b, rounding_mode='trunc'), or for actual floor division, use torch.div(a, b, rounding_mode='floor').\n",
      "  pad = (mask.shape[-2] - num_low_freqs + 1) // 2\n",
      "/content/drive/MyDrive/FastMRI_LHS/FastMRI_challenge-2022_varnet/utils/model/dircn/dircn.py:396: UserWarning: where received a uint8 condition tensor. This behavior is deprecated and will be removed in a future version of PyTorch. Use a boolean condition instead. (Triggered internally at  ../aten/src/ATen/native/TensorCompare.cpp:402.)\n",
      "  model_term_expanded)\n"
     ]
    },
    {
     "output_type": "stream",
     "name": "stdout",
     "text": [
      "Epoch = [  0/ 30] Iter = [   0/4448] Loss = 0.2654 Time = 2.3056s\n",
      "Epoch = [  0/ 30] Iter = [ 100/4448] Loss = 0.1311 Time = 129.8413s\n",
      "Epoch = [  0/ 30] Iter = [ 200/4448] Loss = 0.075 Time = 206.0980s\n",
      "Epoch = [  0/ 30] Iter = [ 300/4448] Loss = 0.104 Time = 228.6916s\n",
      "Epoch = [  0/ 30] Iter = [ 400/4448] Loss = 0.07535 Time = 246.6603s\n",
      "Epoch = [  0/ 30] Iter = [ 500/4448] Loss = 0.05773 Time = 236.2701s\n",
      "Epoch = [  0/ 30] Iter = [ 600/4448] Loss = 0.05784 Time = 228.5107s\n",
      "Epoch = [  0/ 30] Iter = [ 700/4448] Loss = 0.08677 Time = 240.2645s\n",
      "Epoch = [  0/ 30] Iter = [ 800/4448] Loss = 0.06153 Time = 236.9688s\n",
      "Epoch = [  0/ 30] Iter = [ 900/4448] Loss = 0.05659 Time = 239.6456s\n",
      "Epoch = [  0/ 30] Iter = [1000/4448] Loss = 0.1138 Time = 227.7571s\n",
      "Epoch = [  0/ 30] Iter = [1100/4448] Loss = 0.09025 Time = 245.9937s\n",
      "Epoch = [  0/ 30] Iter = [1200/4448] Loss = 0.07371 Time = 215.8267s\n",
      "Epoch = [  0/ 30] Iter = [1300/4448] Loss = 0.09629 Time = 219.3580s\n",
      "Epoch = [  0/ 30] Iter = [1400/4448] Loss = 0.05343 Time = 211.0940s\n",
      "Epoch = [  0/ 30] Iter = [1500/4448] Loss = 0.07361 Time = 227.9583s\n",
      "Epoch = [  0/ 30] Iter = [1600/4448] Loss = 0.05215 Time = 198.5517s\n",
      "Epoch = [  0/ 30] Iter = [1700/4448] Loss = 0.06215 Time = 223.4961s\n",
      "Epoch = [  0/ 30] Iter = [1800/4448] Loss = 0.0458 Time = 212.6638s\n",
      "Epoch = [  0/ 30] Iter = [1900/4448] Loss = 0.06429 Time = 176.4236s\n",
      "Epoch = [  0/ 30] Iter = [2000/4448] Loss = 0.05012 Time = 223.0158s\n",
      "Epoch = [  0/ 30] Iter = [2100/4448] Loss = 0.0668 Time = 191.8949s\n",
      "Epoch = [  0/ 30] Iter = [2200/4448] Loss = 0.05467 Time = 218.0606s\n",
      "Epoch = [  0/ 30] Iter = [2300/4448] Loss = 0.05637 Time = 229.0498s\n",
      "Epoch = [  0/ 30] Iter = [2400/4448] Loss = 0.05358 Time = 214.1109s\n",
      "Epoch = [  0/ 30] Iter = [2500/4448] Loss = 0.07993 Time = 196.2281s\n",
      "Epoch = [  0/ 30] Iter = [2600/4448] Loss = 0.0575 Time = 223.8679s\n",
      "Epoch = [  0/ 30] Iter = [2700/4448] Loss = 0.03736 Time = 218.9980s\n",
      "Epoch = [  0/ 30] Iter = [2800/4448] Loss = 0.04332 Time = 209.9261s\n",
      "Epoch = [  0/ 30] Iter = [2900/4448] Loss = 0.05274 Time = 218.4304s\n",
      "Epoch = [  0/ 30] Iter = [3000/4448] Loss = 0.07662 Time = 217.3028s\n",
      "Epoch = [  0/ 30] Iter = [3100/4448] Loss = 0.05622 Time = 216.7013s\n",
      "Epoch = [  0/ 30] Iter = [3200/4448] Loss = 0.0419 Time = 197.7084s\n",
      "Epoch = [  0/ 30] Iter = [3300/4448] Loss = 0.04387 Time = 222.0851s\n",
      "Epoch = [  0/ 30] Iter = [3400/4448] Loss = 0.04428 Time = 224.4531s\n",
      "Epoch = [  0/ 30] Iter = [3500/4448] Loss = 0.04095 Time = 210.4332s\n",
      "Epoch = [  0/ 30] Iter = [3600/4448] Loss = 0.05763 Time = 202.8573s\n",
      "Epoch = [  0/ 30] Iter = [3700/4448] Loss = 0.06615 Time = 211.4266s\n",
      "Epoch = [  0/ 30] Iter = [3800/4448] Loss = 0.05659 Time = 236.0343s\n",
      "Epoch = [  0/ 30] Iter = [3900/4448] Loss = 0.05016 Time = 222.3318s\n",
      "Epoch = [  0/ 30] Iter = [4000/4448] Loss = 0.1245 Time = 210.1530s\n",
      "Epoch = [  0/ 30] Iter = [4100/4448] Loss = 0.04488 Time = 213.3041s\n",
      "Epoch = [  0/ 30] Iter = [4200/4448] Loss = 0.06647 Time = 227.9780s\n",
      "Epoch = [  0/ 30] Iter = [4300/4448] Loss = 0.03417 Time = 237.6016s\n",
      "Epoch = [  0/ 30] Iter = [4400/4448] Loss = 0.03997 Time = 238.8819s\n",
      "Epoch = [   0/  30] TrainLoss = 0.06659 ValLoss = 0.04254 TrainTime = 9691.5664s ValTime = 3099.9858s\n",
      "@@@@@@@@@@@@@@@@@@@@@@@@@@@@@@@@@@@@NewRecord@@@@@@@@@@@@@@@@@@@@@@@@@@@@\n",
      "ForwardTime = 15.9860s\n",
      "Epoch # 1 ............... test_dircn ...............\n",
      "Epoch = [  1/ 30] Iter = [   0/4448] Loss = 0.04953 Time = 6.5854s\n",
      "Epoch = [  1/ 30] Iter = [ 100/4448] Loss = 0.07643 Time = 243.8692s\n",
      "Epoch = [  1/ 30] Iter = [ 200/4448] Loss = 0.05013 Time = 202.9795s\n",
      "Epoch = [  1/ 30] Iter = [ 300/4448] Loss = 0.06722 Time = 184.4289s\n",
      "Epoch = [  1/ 30] Iter = [ 400/4448] Loss = 0.04163 Time = 213.8978s\n",
      "Epoch = [  1/ 30] Iter = [ 500/4448] Loss = 0.03929 Time = 219.4480s\n",
      "Epoch = [  1/ 30] Iter = [ 600/4448] Loss = 0.05541 Time = 203.3757s\n",
      "Epoch = [  1/ 30] Iter = [ 700/4448] Loss = 0.05771 Time = 207.4795s\n",
      "Epoch = [  1/ 30] Iter = [ 800/4448] Loss = 0.04261 Time = 225.0360s\n",
      "Epoch = [  1/ 30] Iter = [ 900/4448] Loss = 0.0451 Time = 216.2219s\n"
     ]
    },
    {
     "output_type": "error",
     "ename": "KeyboardInterrupt",
     "evalue": "ignored",
     "traceback": [
      "\u001B[0;31m---------------------------------------------------------------------------\u001B[0m",
      "\u001B[0;31mKeyboardInterrupt\u001B[0m                         Traceback (most recent call last)",
      "\u001B[0;32m<ipython-input-5-76edde151486>\u001B[0m in \u001B[0;36m<module>\u001B[0;34m\u001B[0m\n\u001B[1;32m     43\u001B[0m     \u001B[0mseed_fix\u001B[0m\u001B[0;34m(\u001B[0m\u001B[0;36m42\u001B[0m\u001B[0;34m)\u001B[0m\u001B[0;34m\u001B[0m\u001B[0;34m\u001B[0m\u001B[0m\n\u001B[1;32m     44\u001B[0m \u001B[0;34m\u001B[0m\u001B[0m\n\u001B[0;32m---> 45\u001B[0;31m     \u001B[0mtrain\u001B[0m\u001B[0;34m(\u001B[0m\u001B[0margs\u001B[0m\u001B[0;34m)\u001B[0m\u001B[0;34m\u001B[0m\u001B[0;34m\u001B[0m\u001B[0m\n\u001B[0m",
      "\u001B[0;32m/content/drive/MyDrive/FastMRI_LHS/FastMRI_challenge-2022_varnet/utils/learning/train_part_dircn.py\u001B[0m in \u001B[0;36mtrain\u001B[0;34m(args)\u001B[0m\n\u001B[1;32m    139\u001B[0m         \u001B[0mprint\u001B[0m\u001B[0;34m(\u001B[0m\u001B[0;34mf'Epoch #{epoch:2d} ............... {args.net_name} ...............'\u001B[0m\u001B[0;34m)\u001B[0m\u001B[0;34m\u001B[0m\u001B[0;34m\u001B[0m\u001B[0m\n\u001B[1;32m    140\u001B[0m \u001B[0;34m\u001B[0m\u001B[0m\n\u001B[0;32m--> 141\u001B[0;31m         \u001B[0mtrain_loss\u001B[0m\u001B[0;34m,\u001B[0m \u001B[0mtrain_time\u001B[0m \u001B[0;34m=\u001B[0m \u001B[0mtrain_epoch\u001B[0m\u001B[0;34m(\u001B[0m\u001B[0margs\u001B[0m\u001B[0;34m,\u001B[0m \u001B[0mepoch\u001B[0m\u001B[0;34m,\u001B[0m \u001B[0mmodel\u001B[0m\u001B[0;34m,\u001B[0m \u001B[0mtrain_loader\u001B[0m\u001B[0;34m,\u001B[0m \u001B[0moptimizer\u001B[0m\u001B[0;34m,\u001B[0m \u001B[0mloss_type\u001B[0m\u001B[0;34m)\u001B[0m\u001B[0;34m\u001B[0m\u001B[0;34m\u001B[0m\u001B[0m\n\u001B[0m\u001B[1;32m    142\u001B[0m         \u001B[0mval_loss\u001B[0m\u001B[0;34m,\u001B[0m \u001B[0mnum_subjects\u001B[0m\u001B[0;34m,\u001B[0m \u001B[0mreconstructions\u001B[0m\u001B[0;34m,\u001B[0m \u001B[0mtargets\u001B[0m\u001B[0;34m,\u001B[0m \u001B[0minputs\u001B[0m\u001B[0;34m,\u001B[0m \u001B[0mval_time\u001B[0m \u001B[0;34m=\u001B[0m \u001B[0mvalidate\u001B[0m\u001B[0;34m(\u001B[0m\u001B[0margs\u001B[0m\u001B[0;34m,\u001B[0m \u001B[0mmodel\u001B[0m\u001B[0;34m,\u001B[0m \u001B[0mval_loader\u001B[0m\u001B[0;34m)\u001B[0m\u001B[0;34m\u001B[0m\u001B[0;34m\u001B[0m\u001B[0m\n\u001B[1;32m    143\u001B[0m \u001B[0;34m\u001B[0m\u001B[0m\n",
      "\u001B[0;32m/content/drive/MyDrive/FastMRI_LHS/FastMRI_challenge-2022_varnet/utils/learning/train_part_dircn.py\u001B[0m in \u001B[0;36mtrain_epoch\u001B[0;34m(args, epoch, model, data_loader, optimizer, loss_type)\u001B[0m\n\u001B[1;32m     22\u001B[0m     \u001B[0mtotal_loss\u001B[0m \u001B[0;34m=\u001B[0m \u001B[0;36m0.\u001B[0m\u001B[0;34m\u001B[0m\u001B[0;34m\u001B[0m\u001B[0m\n\u001B[1;32m     23\u001B[0m \u001B[0;34m\u001B[0m\u001B[0m\n\u001B[0;32m---> 24\u001B[0;31m     \u001B[0;32mfor\u001B[0m \u001B[0miter\u001B[0m\u001B[0;34m,\u001B[0m \u001B[0mdata\u001B[0m \u001B[0;32min\u001B[0m \u001B[0menumerate\u001B[0m\u001B[0;34m(\u001B[0m\u001B[0mdata_loader\u001B[0m\u001B[0;34m)\u001B[0m\u001B[0;34m:\u001B[0m\u001B[0;34m\u001B[0m\u001B[0;34m\u001B[0m\u001B[0m\n\u001B[0m\u001B[1;32m     25\u001B[0m         \u001B[0mmask\u001B[0m\u001B[0;34m,\u001B[0m \u001B[0mkspace\u001B[0m\u001B[0;34m,\u001B[0m \u001B[0mtarget\u001B[0m\u001B[0;34m,\u001B[0m \u001B[0mmaximum\u001B[0m\u001B[0;34m,\u001B[0m \u001B[0m_\u001B[0m\u001B[0;34m,\u001B[0m \u001B[0m_\u001B[0m \u001B[0;34m=\u001B[0m \u001B[0mdata\u001B[0m\u001B[0;34m\u001B[0m\u001B[0;34m\u001B[0m\u001B[0m\n\u001B[1;32m     26\u001B[0m         \u001B[0mmask\u001B[0m \u001B[0;34m=\u001B[0m \u001B[0mmask\u001B[0m\u001B[0;34m.\u001B[0m\u001B[0mcuda\u001B[0m\u001B[0;34m(\u001B[0m\u001B[0mnon_blocking\u001B[0m\u001B[0;34m=\u001B[0m\u001B[0;32mTrue\u001B[0m\u001B[0;34m)\u001B[0m\u001B[0;34m\u001B[0m\u001B[0;34m\u001B[0m\u001B[0m\n",
      "\u001B[0;32m/usr/local/lib/python3.7/dist-packages/torch/utils/data/dataloader.py\u001B[0m in \u001B[0;36m__next__\u001B[0;34m(self)\u001B[0m\n\u001B[1;32m    679\u001B[0m                 \u001B[0;31m# TODO(https://github.com/pytorch/pytorch/issues/76750)\u001B[0m\u001B[0;34m\u001B[0m\u001B[0;34m\u001B[0m\u001B[0;34m\u001B[0m\u001B[0m\n\u001B[1;32m    680\u001B[0m                 \u001B[0mself\u001B[0m\u001B[0;34m.\u001B[0m\u001B[0m_reset\u001B[0m\u001B[0;34m(\u001B[0m\u001B[0;34m)\u001B[0m  \u001B[0;31m# type: ignore[call-arg]\u001B[0m\u001B[0;34m\u001B[0m\u001B[0;34m\u001B[0m\u001B[0m\n\u001B[0;32m--> 681\u001B[0;31m             \u001B[0mdata\u001B[0m \u001B[0;34m=\u001B[0m \u001B[0mself\u001B[0m\u001B[0;34m.\u001B[0m\u001B[0m_next_data\u001B[0m\u001B[0;34m(\u001B[0m\u001B[0;34m)\u001B[0m\u001B[0;34m\u001B[0m\u001B[0;34m\u001B[0m\u001B[0m\n\u001B[0m\u001B[1;32m    682\u001B[0m             \u001B[0mself\u001B[0m\u001B[0;34m.\u001B[0m\u001B[0m_num_yielded\u001B[0m \u001B[0;34m+=\u001B[0m \u001B[0;36m1\u001B[0m\u001B[0;34m\u001B[0m\u001B[0;34m\u001B[0m\u001B[0m\n\u001B[1;32m    683\u001B[0m             \u001B[0;32mif\u001B[0m \u001B[0mself\u001B[0m\u001B[0;34m.\u001B[0m\u001B[0m_dataset_kind\u001B[0m \u001B[0;34m==\u001B[0m \u001B[0m_DatasetKind\u001B[0m\u001B[0;34m.\u001B[0m\u001B[0mIterable\u001B[0m \u001B[0;32mand\u001B[0m\u001B[0;31m \u001B[0m\u001B[0;31m\\\u001B[0m\u001B[0;34m\u001B[0m\u001B[0;34m\u001B[0m\u001B[0m\n",
      "\u001B[0;32m/usr/local/lib/python3.7/dist-packages/torch/utils/data/dataloader.py\u001B[0m in \u001B[0;36m_next_data\u001B[0;34m(self)\u001B[0m\n\u001B[1;32m    719\u001B[0m     \u001B[0;32mdef\u001B[0m \u001B[0m_next_data\u001B[0m\u001B[0;34m(\u001B[0m\u001B[0mself\u001B[0m\u001B[0;34m)\u001B[0m\u001B[0;34m:\u001B[0m\u001B[0;34m\u001B[0m\u001B[0;34m\u001B[0m\u001B[0m\n\u001B[1;32m    720\u001B[0m         \u001B[0mindex\u001B[0m \u001B[0;34m=\u001B[0m \u001B[0mself\u001B[0m\u001B[0;34m.\u001B[0m\u001B[0m_next_index\u001B[0m\u001B[0;34m(\u001B[0m\u001B[0;34m)\u001B[0m  \u001B[0;31m# may raise StopIteration\u001B[0m\u001B[0;34m\u001B[0m\u001B[0;34m\u001B[0m\u001B[0m\n\u001B[0;32m--> 721\u001B[0;31m         \u001B[0mdata\u001B[0m \u001B[0;34m=\u001B[0m \u001B[0mself\u001B[0m\u001B[0;34m.\u001B[0m\u001B[0m_dataset_fetcher\u001B[0m\u001B[0;34m.\u001B[0m\u001B[0mfetch\u001B[0m\u001B[0;34m(\u001B[0m\u001B[0mindex\u001B[0m\u001B[0;34m)\u001B[0m  \u001B[0;31m# may raise StopIteration\u001B[0m\u001B[0;34m\u001B[0m\u001B[0;34m\u001B[0m\u001B[0m\n\u001B[0m\u001B[1;32m    722\u001B[0m         \u001B[0;32mif\u001B[0m \u001B[0mself\u001B[0m\u001B[0;34m.\u001B[0m\u001B[0m_pin_memory\u001B[0m\u001B[0;34m:\u001B[0m\u001B[0;34m\u001B[0m\u001B[0;34m\u001B[0m\u001B[0m\n\u001B[1;32m    723\u001B[0m             \u001B[0mdata\u001B[0m \u001B[0;34m=\u001B[0m \u001B[0m_utils\u001B[0m\u001B[0;34m.\u001B[0m\u001B[0mpin_memory\u001B[0m\u001B[0;34m.\u001B[0m\u001B[0mpin_memory\u001B[0m\u001B[0;34m(\u001B[0m\u001B[0mdata\u001B[0m\u001B[0;34m,\u001B[0m \u001B[0mself\u001B[0m\u001B[0;34m.\u001B[0m\u001B[0m_pin_memory_device\u001B[0m\u001B[0;34m)\u001B[0m\u001B[0;34m\u001B[0m\u001B[0;34m\u001B[0m\u001B[0m\n",
      "\u001B[0;32m/usr/local/lib/python3.7/dist-packages/torch/utils/data/_utils/fetch.py\u001B[0m in \u001B[0;36mfetch\u001B[0;34m(self, possibly_batched_index)\u001B[0m\n\u001B[1;32m     47\u001B[0m     \u001B[0;32mdef\u001B[0m \u001B[0mfetch\u001B[0m\u001B[0;34m(\u001B[0m\u001B[0mself\u001B[0m\u001B[0;34m,\u001B[0m \u001B[0mpossibly_batched_index\u001B[0m\u001B[0;34m)\u001B[0m\u001B[0;34m:\u001B[0m\u001B[0;34m\u001B[0m\u001B[0;34m\u001B[0m\u001B[0m\n\u001B[1;32m     48\u001B[0m         \u001B[0;32mif\u001B[0m \u001B[0mself\u001B[0m\u001B[0;34m.\u001B[0m\u001B[0mauto_collation\u001B[0m\u001B[0;34m:\u001B[0m\u001B[0;34m\u001B[0m\u001B[0;34m\u001B[0m\u001B[0m\n\u001B[0;32m---> 49\u001B[0;31m             \u001B[0mdata\u001B[0m \u001B[0;34m=\u001B[0m \u001B[0;34m[\u001B[0m\u001B[0mself\u001B[0m\u001B[0;34m.\u001B[0m\u001B[0mdataset\u001B[0m\u001B[0;34m[\u001B[0m\u001B[0midx\u001B[0m\u001B[0;34m]\u001B[0m \u001B[0;32mfor\u001B[0m \u001B[0midx\u001B[0m \u001B[0;32min\u001B[0m \u001B[0mpossibly_batched_index\u001B[0m\u001B[0;34m]\u001B[0m\u001B[0;34m\u001B[0m\u001B[0;34m\u001B[0m\u001B[0m\n\u001B[0m\u001B[1;32m     50\u001B[0m         \u001B[0;32melse\u001B[0m\u001B[0;34m:\u001B[0m\u001B[0;34m\u001B[0m\u001B[0;34m\u001B[0m\u001B[0m\n\u001B[1;32m     51\u001B[0m             \u001B[0mdata\u001B[0m \u001B[0;34m=\u001B[0m \u001B[0mself\u001B[0m\u001B[0;34m.\u001B[0m\u001B[0mdataset\u001B[0m\u001B[0;34m[\u001B[0m\u001B[0mpossibly_batched_index\u001B[0m\u001B[0;34m]\u001B[0m\u001B[0;34m\u001B[0m\u001B[0;34m\u001B[0m\u001B[0m\n",
      "\u001B[0;32m/usr/local/lib/python3.7/dist-packages/torch/utils/data/_utils/fetch.py\u001B[0m in \u001B[0;36m<listcomp>\u001B[0;34m(.0)\u001B[0m\n\u001B[1;32m     47\u001B[0m     \u001B[0;32mdef\u001B[0m \u001B[0mfetch\u001B[0m\u001B[0;34m(\u001B[0m\u001B[0mself\u001B[0m\u001B[0;34m,\u001B[0m \u001B[0mpossibly_batched_index\u001B[0m\u001B[0;34m)\u001B[0m\u001B[0;34m:\u001B[0m\u001B[0;34m\u001B[0m\u001B[0;34m\u001B[0m\u001B[0m\n\u001B[1;32m     48\u001B[0m         \u001B[0;32mif\u001B[0m \u001B[0mself\u001B[0m\u001B[0;34m.\u001B[0m\u001B[0mauto_collation\u001B[0m\u001B[0;34m:\u001B[0m\u001B[0;34m\u001B[0m\u001B[0;34m\u001B[0m\u001B[0m\n\u001B[0;32m---> 49\u001B[0;31m             \u001B[0mdata\u001B[0m \u001B[0;34m=\u001B[0m \u001B[0;34m[\u001B[0m\u001B[0mself\u001B[0m\u001B[0;34m.\u001B[0m\u001B[0mdataset\u001B[0m\u001B[0;34m[\u001B[0m\u001B[0midx\u001B[0m\u001B[0;34m]\u001B[0m \u001B[0;32mfor\u001B[0m \u001B[0midx\u001B[0m \u001B[0;32min\u001B[0m \u001B[0mpossibly_batched_index\u001B[0m\u001B[0;34m]\u001B[0m\u001B[0;34m\u001B[0m\u001B[0;34m\u001B[0m\u001B[0m\n\u001B[0m\u001B[1;32m     50\u001B[0m         \u001B[0;32melse\u001B[0m\u001B[0;34m:\u001B[0m\u001B[0;34m\u001B[0m\u001B[0;34m\u001B[0m\u001B[0m\n\u001B[1;32m     51\u001B[0m             \u001B[0mdata\u001B[0m \u001B[0;34m=\u001B[0m \u001B[0mself\u001B[0m\u001B[0;34m.\u001B[0m\u001B[0mdataset\u001B[0m\u001B[0;34m[\u001B[0m\u001B[0mpossibly_batched_index\u001B[0m\u001B[0;34m]\u001B[0m\u001B[0;34m\u001B[0m\u001B[0;34m\u001B[0m\u001B[0m\n",
      "\u001B[0;32m/content/drive/MyDrive/FastMRI_LHS/FastMRI_challenge-2022_varnet/utils/data/load_data.py\u001B[0m in \u001B[0;36m__getitem__\u001B[0;34m(self, i)\u001B[0m\n\u001B[1;32m     50\u001B[0m \u001B[0;34m\u001B[0m\u001B[0m\n\u001B[1;32m     51\u001B[0m         \u001B[0;32mwith\u001B[0m \u001B[0mh5py\u001B[0m\u001B[0;34m.\u001B[0m\u001B[0mFile\u001B[0m\u001B[0;34m(\u001B[0m\u001B[0mkspace_fname\u001B[0m\u001B[0;34m,\u001B[0m \u001B[0;34m\"r\"\u001B[0m\u001B[0;34m)\u001B[0m \u001B[0;32mas\u001B[0m \u001B[0mhf\u001B[0m\u001B[0;34m:\u001B[0m\u001B[0;34m\u001B[0m\u001B[0;34m\u001B[0m\u001B[0m\n\u001B[0;32m---> 52\u001B[0;31m             \u001B[0minput\u001B[0m \u001B[0;34m=\u001B[0m \u001B[0mhf\u001B[0m\u001B[0;34m[\u001B[0m\u001B[0mself\u001B[0m\u001B[0;34m.\u001B[0m\u001B[0minput_key\u001B[0m\u001B[0;34m]\u001B[0m\u001B[0;34m[\u001B[0m\u001B[0mdataslice\u001B[0m\u001B[0;34m]\u001B[0m\u001B[0;34m\u001B[0m\u001B[0;34m\u001B[0m\u001B[0m\n\u001B[0m\u001B[1;32m     53\u001B[0m             \u001B[0mmask\u001B[0m \u001B[0;34m=\u001B[0m  \u001B[0mnp\u001B[0m\u001B[0;34m.\u001B[0m\u001B[0marray\u001B[0m\u001B[0;34m(\u001B[0m\u001B[0mhf\u001B[0m\u001B[0;34m[\u001B[0m\u001B[0;34m\"mask\"\u001B[0m\u001B[0;34m]\u001B[0m\u001B[0;34m)\u001B[0m\u001B[0;34m\u001B[0m\u001B[0;34m\u001B[0m\u001B[0m\n\u001B[1;32m     54\u001B[0m         \u001B[0;32mif\u001B[0m \u001B[0mself\u001B[0m\u001B[0;34m.\u001B[0m\u001B[0mforward\u001B[0m\u001B[0;34m:\u001B[0m\u001B[0;34m\u001B[0m\u001B[0;34m\u001B[0m\u001B[0m\n",
      "\u001B[0;32mh5py/_objects.pyx\u001B[0m in \u001B[0;36mh5py._objects.with_phil.wrapper\u001B[0;34m()\u001B[0m\n",
      "\u001B[0;32mh5py/_objects.pyx\u001B[0m in \u001B[0;36mh5py._objects.with_phil.wrapper\u001B[0;34m()\u001B[0m\n",
      "\u001B[0;32m/usr/local/lib/python3.7/dist-packages/h5py/_hl/dataset.py\u001B[0m in \u001B[0;36m__getitem__\u001B[0;34m(self, args, new_dtype)\u001B[0m\n\u001B[1;32m    785\u001B[0m         \u001B[0mmspace\u001B[0m \u001B[0;34m=\u001B[0m \u001B[0mh5s\u001B[0m\u001B[0;34m.\u001B[0m\u001B[0mcreate_simple\u001B[0m\u001B[0;34m(\u001B[0m\u001B[0mselection\u001B[0m\u001B[0;34m.\u001B[0m\u001B[0mmshape\u001B[0m\u001B[0;34m)\u001B[0m\u001B[0;34m\u001B[0m\u001B[0;34m\u001B[0m\u001B[0m\n\u001B[1;32m    786\u001B[0m         \u001B[0mfspace\u001B[0m \u001B[0;34m=\u001B[0m \u001B[0mselection\u001B[0m\u001B[0;34m.\u001B[0m\u001B[0mid\u001B[0m\u001B[0;34m\u001B[0m\u001B[0;34m\u001B[0m\u001B[0m\n\u001B[0;32m--> 787\u001B[0;31m         \u001B[0mself\u001B[0m\u001B[0;34m.\u001B[0m\u001B[0mid\u001B[0m\u001B[0;34m.\u001B[0m\u001B[0mread\u001B[0m\u001B[0;34m(\u001B[0m\u001B[0mmspace\u001B[0m\u001B[0;34m,\u001B[0m \u001B[0mfspace\u001B[0m\u001B[0;34m,\u001B[0m \u001B[0marr\u001B[0m\u001B[0;34m,\u001B[0m \u001B[0mmtype\u001B[0m\u001B[0;34m,\u001B[0m \u001B[0mdxpl\u001B[0m\u001B[0;34m=\u001B[0m\u001B[0mself\u001B[0m\u001B[0;34m.\u001B[0m\u001B[0m_dxpl\u001B[0m\u001B[0;34m)\u001B[0m\u001B[0;34m\u001B[0m\u001B[0;34m\u001B[0m\u001B[0m\n\u001B[0m\u001B[1;32m    788\u001B[0m \u001B[0;34m\u001B[0m\u001B[0m\n\u001B[1;32m    789\u001B[0m         \u001B[0;31m# Patch up the output for NumPy\u001B[0m\u001B[0;34m\u001B[0m\u001B[0;34m\u001B[0m\u001B[0;34m\u001B[0m\u001B[0m\n",
      "\u001B[0;31mKeyboardInterrupt\u001B[0m: "
     ]
    }
   ],
   "source": [
    "import torch\n",
    "import argparse\n",
    "import shutil\n",
    "import os, sys\n",
    "if os.getcwd() + '/utils/model/' not in sys.path:\n",
    "    sys.path.insert(1, os.getcwd() + '/utils/model/')\n",
    "\n",
    "from utils.learning.train_part_dircn import train\n",
    "from utils.model.random_seed import seed_fix\n",
    "from pathlib import Path\n",
    "\n",
    "\n",
    "def parse():\n",
    "    parser = argparse.ArgumentParser(description='Train Unet on FastMRI challenge Images',\n",
    "                                    formatter_class=argparse.ArgumentDefaultsHelpFormatter)\n",
    "    parser.add_argument('-g', '--GPU-NUM', type=int, default=0, help='GPU number to allocate')\n",
    "    parser.add_argument('-b', '--batch-size', type=int, default=1, help='Batch size')\n",
    "    parser.add_argument('-e', '--num-epochs', type=int, default=30, help='Number of epochs')\n",
    "    parser.add_argument('-l', '--lr', type=float, default=1e-3, help='Learning rate')\n",
    "    parser.add_argument('-r', '--report-interval', type=int, default=100, help='Report interval')\n",
    "    parser.add_argument('-n', '--net-name', type=Path, default='test_dircn', help='Name of network')\n",
    "    # parser.add_argument('-t', '--data-path-train', type=Path, default='/content/drive/Shareddrives/2022 FastMRI/train_real/', help='Directory of train data')\n",
    "    # parser.add_argument('-v', '--data-path-val', type=Path, default='/content/drive/Shareddrives/2022 FastMRI/val_real/', help='Directory of validation data')\n",
    "    parser.add_argument('-t', '--data-path-train', type=Path, default='/content/drive/MyDrive/FastMRI_LHS/train/', help='Directory of train data')\n",
    "    parser.add_argument('-v', '--data-path-val', type=Path, default='/content/drive/MyDrive/FastMRI_LHS/val/', help='Directory of validation data')\n",
    "    parser.add_argument('--cascade', type=int, default=6, help='Number of cascades | Should be less than 12') ## important hyperparameter\n",
    "    parser.add_argument('--input-key', type=str, default='kspace', help='Name of input key')\n",
    "    parser.add_argument('--target-key', type=str, default='image_label', help='Name of target key')\n",
    "    parser.add_argument('--max-key', type=str, default='max', help='Name of max key in attributes')\n",
    "\n",
    "    args = parser.parse_args(args=[])\n",
    "    return args\n",
    "\n",
    "if __name__ == '__main__':\n",
    "    args = parse()\n",
    "    args.exp_dir = '/content/drive/MyDrive/FastMRI_LHS/result/test_result_dircn' / args.net_name / 'checkpoints'\n",
    "    args.val_dir = '/content/drive/MyDrive/FastMRI_LHS/result/test_result_dircn' / args.net_name / 'reconstructions_val'\n",
    "    #args.main_dir = '/content/drive/MyDrive/2022 FastMRI/result_varnet' / args.net_name / __file__\n",
    "    \n",
    "    args.exp_dir.mkdir(parents=True, exist_ok=True)\n",
    "    args.val_dir.mkdir(parents=True, exist_ok=True)\n",
    "\n",
    "    seed_fix(42)\n",
    "\n",
    "    train(args)"
   ]
  }
 ],
 "metadata": {
  "colab": {
   "collapsed_sections": [],
   "machine_shape": "hm",
   "name": "train_dircn_no_resxunet.ipynb",
   "provenance": [],
   "background_execution": "on"
  },
  "gpuClass": "standard",
  "kernelspec": {
   "display_name": "Python 3",
   "name": "python3"
  },
  "language_info": {
   "name": "python"
  },
  "accelerator": "GPU"
 },
 "nbformat": 4,
 "nbformat_minor": 0
}