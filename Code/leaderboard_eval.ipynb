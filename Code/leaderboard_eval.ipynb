{
 "nbformat": 4,
 "nbformat_minor": 0,
 "metadata": {
  "colab": {
   "name": "leaderboard_eval.ipynb",
   "provenance": []
  },
  "kernelspec": {
   "name": "python3",
   "display_name": "Python 3"
  },
  "language_info": {
   "name": "python"
  },
  "gpuClass": "standard",
  "accelerator": "GPU"
 },
 "cells": [
  {
   "cell_type": "code",
   "source": [
    "from google.colab import drive\n",
    "drive.mount('/content/drive')"
   ],
   "metadata": {
    "colab": {
     "base_uri": "https://localhost:8080/"
    },
    "id": "_sm0pb6dLOfw",
    "executionInfo": {
     "status": "ok",
     "timestamp": 1660991402131,
     "user_tz": -540,
     "elapsed": 218899,
     "user": {
      "displayName": "Hyunsoo Lee",
      "userId": "03042612597258919573"
     }
    },
    "outputId": "67432495-858a-4ee7-ce68-764d87919449",
    "pycharm": {
     "name": "#%%\n"
    }
   },
   "execution_count": 1,
   "outputs": [
    {
     "output_type": "stream",
     "name": "stdout",
     "text": [
      "Mounted at /content/drive\n"
     ]
    }
   ]
  },
  {
   "cell_type": "code",
   "source": [
    "import sys\n",
    "sys.path.append('/content/drive/MyDrive/FastMRI_LHS/FastMRI_challenge-2022_varnet/')"
   ],
   "metadata": {
    "id": "c1iVUWDPMREI",
    "executionInfo": {
     "status": "ok",
     "timestamp": 1660991402132,
     "user_tz": -540,
     "elapsed": 6,
     "user": {
      "displayName": "Hyunsoo Lee",
      "userId": "03042612597258919573"
     }
    },
    "pycharm": {
     "name": "#%%\n"
    }
   },
   "execution_count": 2,
   "outputs": []
  },
  {
   "cell_type": "code",
   "source": [
    "%cd /content/drive/MyDrive/FastMRI_LHS/FastMRI_challenge-2022_varnet/"
   ],
   "metadata": {
    "colab": {
     "base_uri": "https://localhost:8080/"
    },
    "id": "FgNldwW7MaS2",
    "executionInfo": {
     "status": "ok",
     "timestamp": 1660991402132,
     "user_tz": -540,
     "elapsed": 5,
     "user": {
      "displayName": "Hyunsoo Lee",
      "userId": "03042612597258919573"
     }
    },
    "outputId": "2b6e0ae7-3ee4-41c0-aa8e-ea91a8df08af",
    "pycharm": {
     "name": "#%%\n"
    }
   },
   "execution_count": 3,
   "outputs": [
    {
     "output_type": "stream",
     "name": "stdout",
     "text": [
      "/content/drive/MyDrive/FastMRI_LHS/FastMRI_challenge-2022_varnet\n"
     ]
    }
   ]
  },
  {
   "cell_type": "code",
   "execution_count": 4,
   "metadata": {
    "id": "U5KvzXUt60Ja",
    "colab": {
     "base_uri": "https://localhost:8080/"
    },
    "executionInfo": {
     "status": "ok",
     "timestamp": 1660991767424,
     "user_tz": -540,
     "elapsed": 365296,
     "user": {
      "displayName": "Hyunsoo Lee",
      "userId": "03042612597258919573"
     }
    },
    "outputId": "f43bf34b-f148-4cb5-d1d3-62304a2c964c",
    "pycharm": {
     "name": "#%%\n"
    }
   },
   "outputs": [
    {
     "output_type": "stream",
     "name": "stdout",
     "text": [
      "Leaderboard Dataset SSIM : 0.9840\n"
     ]
    }
   ],
   "source": [
    "import argparse\n",
    "import numpy as np\n",
    "import h5py\n",
    "import random\n",
    "import glob\n",
    "import os\n",
    "import torch\n",
    "from utils.common.loss_function import SSIMLoss\n",
    "import torch.nn.functional as F\n",
    "import cv2\n",
    "\n",
    "class SSIM(SSIMLoss):\n",
    "    def __init__(self, win_size: int = 7, k1: float = 0.01, k2: float = 0.03):\n",
    "        super().__init__(win_size, k1, k2)\n",
    "            \n",
    "    def forward(self, X, Y, data_range):\n",
    "        if len(X.shape) != 2:\n",
    "            raise NotImplementedError('Dimension of first input is {} rather than 2'.format(len(X.shape)))\n",
    "        if len(Y.shape) != 2:\n",
    "            raise NotImplementedError('Dimension of first input is {} rather than 2'.format(len(Y.shape)))\n",
    "            \n",
    "        X = X.unsqueeze(0).unsqueeze(0)\n",
    "        Y = Y.unsqueeze(0).unsqueeze(0)\n",
    "        #data_range = data_range[:, None, None, None]\n",
    "        C1 = (self.k1 * data_range) ** 2\n",
    "        C2 = (self.k2 * data_range) ** 2\n",
    "        ux = F.conv2d(X, self.w)\n",
    "        uy = F.conv2d(Y, self.w)\n",
    "        uxx = F.conv2d(X * X, self.w)\n",
    "        uyy = F.conv2d(Y * Y, self.w)\n",
    "        uxy = F.conv2d(X * Y, self.w)\n",
    "        vx = self.cov_norm * (uxx - ux * ux)\n",
    "        vy = self.cov_norm * (uyy - uy * uy)\n",
    "        vxy = self.cov_norm * (uxy - ux * uy)\n",
    "        A1, A2, B1, B2 = (\n",
    "            2 * ux * uy + C1,\n",
    "            2 * vxy + C2,\n",
    "            ux ** 2 + uy ** 2 + C1,\n",
    "            vx + vy + C2,\n",
    "        )\n",
    "        D = B1 * B2\n",
    "        S = (A1 * A2) / D\n",
    "        return S.mean()\n",
    "    \n",
    "\n",
    "def forward(args):\n",
    "\n",
    "    device = torch.device(f'cuda:{args.GPU_NUM}' if torch.cuda.is_available() else 'cpu')\n",
    "    torch.cuda.set_device(device)\n",
    "    \n",
    "    leaderboard_data = glob.glob(os.path.join(args.leaderboard_data_path,'*.h5'))\n",
    "    if len(leaderboard_data) != 58:\n",
    "        raise  NotImplementedError('Leaderboard Data Size Should Be 58')\n",
    "    \n",
    "    your_data = glob.glob(os.path.join(args.your_data_path,'*.h5'))\n",
    "    if len(your_data) != 58:\n",
    "        print(len(your_data))\n",
    "        raise  NotImplementedError('Your Data Size Should Be 58')           \n",
    "    \n",
    "    ssim_total = 0\n",
    "    idx = 0\n",
    "    ssim_calculator = SSIM().to(device=device)\n",
    "    with torch.no_grad():\n",
    "        for i_subject in range(58):\n",
    "            l_fname = os.path.join(args.leaderboard_data_path, 'Copy of brain_test' + str(i_subject+1) + '.h5')\n",
    "            y_fname = os.path.join(args.your_data_path, 'Copy of brain_test' + str(i_subject+1) + '.h5')\n",
    "            with h5py.File(l_fname, \"r\") as hf:\n",
    "                num_slices = hf['image_label'].shape[0]\n",
    "            for i_slice in range(num_slices):\n",
    "                with h5py.File(l_fname, \"r\") as hf:\n",
    "                    target = hf['image_label'][i_slice]\n",
    "                    mask = np.zeros(target.shape)\n",
    "                    mask[target>5e-5] = 1\n",
    "                    kernel = np.ones((3, 3), np.uint8)\n",
    "                    mask = cv2.erode(mask, kernel, iterations=1)\n",
    "                    mask = cv2.dilate(mask, kernel, iterations=15)\n",
    "                    mask = cv2.erode(mask, kernel, iterations=14)\n",
    "                    \n",
    "                    target = torch.from_numpy(target).to(device=device)\n",
    "                    mask = (torch.from_numpy(mask).to(device=device)).type(torch.float)\n",
    "\n",
    "                    maximum = hf.attrs['max']\n",
    "                    \n",
    "                with h5py.File(y_fname, \"r\") as hf:\n",
    "                    recon = hf[args.output_key][i_slice]\n",
    "                    recon = torch.from_numpy(recon).to(device=device)\n",
    "                    \n",
    "                #ssim_total += ssim_calculator(recon, target, maximum).cpu().numpy()\n",
    "                ssim_total += ssim_calculator(recon*mask, target*mask, maximum).cpu().numpy()\n",
    "                idx += 1\n",
    "            \n",
    "    print(\"Leaderboard Dataset SSIM : {:.4f}\".format(ssim_total/idx))\n",
    "\n",
    "\n",
    "if __name__ == '__main__':\n",
    "    \"\"\"\n",
    "    Image Leaderboard Dataset Should Be Utilized\n",
    "    For a fair comparison, Leaderboard Dataset Should Not Be Included When Training. This Is Of A Critical Issue.\n",
    "    Since This Code Print SSIM To The 4th Decimal Point, You Can Use The Output Directly.\n",
    "    \"\"\"\n",
    "    parser = argparse.ArgumentParser(description=\n",
    "                                     'FastMRI challenge Leaderboard Image Evaluation',\n",
    "                                     formatter_class=argparse.ArgumentDefaultsHelpFormatter)\n",
    "    \n",
    "    parser.add_argument('-g', '--GPU_NUM', type=int, default=0)\n",
    "    parser.add_argument('-lp', '--leaderboard_data_path', type=str, default='/content/drive/MyDrive/FastMRI_LHS/leaderboard/image')\n",
    "    \"\"\"\n",
    "    Modify Path Below To Test Your Results\n",
    "    \"\"\"\n",
    "    parser.add_argument('-yp', '--your_data_path', type=str, default='/content/drive/MyDrive/FastMRI_LHS/result/result_leaderboard/test_for_leaderboard/reconstructions_forward')\n",
    "    parser.add_argument('-key', '--output_key', type=str, default='reconstruction')\n",
    "    parser.add_argument('-f', default=None)\n",
    "    \n",
    "    args = parser.parse_args()\n",
    "    forward(args)"
   ]
  },
  {
   "cell_type": "code",
   "source": [],
   "metadata": {
    "id": "klUH0hwjLcpA",
    "executionInfo": {
     "status": "ok",
     "timestamp": 1660991767424,
     "user_tz": -540,
     "elapsed": 12,
     "user": {
      "displayName": "Hyunsoo Lee",
      "userId": "03042612597258919573"
     }
    },
    "pycharm": {
     "name": "#%%\n"
    }
   },
   "execution_count": 4,
   "outputs": []
  }
 ]
}