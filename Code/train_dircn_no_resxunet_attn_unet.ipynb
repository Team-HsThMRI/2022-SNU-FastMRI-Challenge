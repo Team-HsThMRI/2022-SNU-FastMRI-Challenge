{
 "nbformat": 4,
 "nbformat_minor": 0,
 "metadata": {
  "colab": {
   "name": "train_dircn_no_resxunet_attn_unet.ipynb",
   "provenance": [],
   "machine_shape": "hm",
   "background_execution": "on",
   "collapsed_sections": []
  },
  "kernelspec": {
   "name": "python3",
   "display_name": "Python 3"
  },
  "language_info": {
   "name": "python"
  },
  "gpuClass": "standard",
  "accelerator": "GPU"
 },
 "cells": [
  {
   "cell_type": "code",
   "execution_count": 1,
   "metadata": {
    "colab": {
     "base_uri": "https://localhost:8080/"
    },
    "id": "q_ocztvdDKOa",
    "executionInfo": {
     "status": "ok",
     "timestamp": 1660704876817,
     "user_tz": -540,
     "elapsed": 2758,
     "user": {
      "displayName": "이현수",
      "userId": "13849497981450636245"
     }
    },
    "outputId": "babc1508-d2e4-47db-ce01-cc6829ec1052",
    "pycharm": {
     "name": "#%%\n"
    }
   },
   "outputs": [
    {
     "output_type": "stream",
     "name": "stdout",
     "text": [
      "Drive already mounted at /content/drive; to attempt to forcibly remount, call drive.mount(\"/content/drive\", force_remount=True).\n"
     ]
    }
   ],
   "source": [
    "from google.colab import drive\n",
    "drive.mount('/content/drive')"
   ]
  },
  {
   "cell_type": "code",
   "source": [
    "import sys\n",
    "# sys.path.append('/root/fastMRI')\n",
    "sys.path.append('/content/drive/MyDrive/FastMRI_LHS/FastMRI_challenge-2022_varnet')"
   ],
   "metadata": {
    "id": "CJ8YCNU5DO5Q",
    "executionInfo": {
     "status": "ok",
     "timestamp": 1660704876818,
     "user_tz": -540,
     "elapsed": 6,
     "user": {
      "displayName": "이현수",
      "userId": "13849497981450636245"
     }
    },
    "pycharm": {
     "name": "#%%\n"
    }
   },
   "execution_count": 2,
   "outputs": []
  },
  {
   "cell_type": "code",
   "source": [
    "%cd /content/drive/MyDrive/FastMRI_LHS/FastMRI_challenge-2022_varnet"
   ],
   "metadata": {
    "colab": {
     "base_uri": "https://localhost:8080/"
    },
    "id": "gKE6VQ7mDO7T",
    "executionInfo": {
     "status": "ok",
     "timestamp": 1660704876818,
     "user_tz": -540,
     "elapsed": 5,
     "user": {
      "displayName": "이현수",
      "userId": "13849497981450636245"
     }
    },
    "outputId": "afbfaa88-1591-493e-9fc2-cb115da546f5",
    "pycharm": {
     "name": "#%%\n"
    }
   },
   "execution_count": 3,
   "outputs": [
    {
     "output_type": "stream",
     "name": "stdout",
     "text": [
      "/content/drive/MyDrive/FastMRI_LHS/FastMRI_challenge-2022_varnet\n"
     ]
    }
   ]
  },
  {
   "cell_type": "code",
   "source": [
    "import torch\n",
    "import argparse\n",
    "import shutil\n",
    "import os, sys\n",
    "if os.getcwd() + '/utils/model/' not in sys.path:\n",
    "    sys.path.insert(1, os.getcwd() + '/utils/model/')\n",
    "\n",
    "from utils.learning.train_part_dircn_attn import train\n",
    "from utils.model.random_seed import seed_fix\n",
    "from pathlib import Path\n",
    "\n",
    "\n",
    "def parse():\n",
    "    parser = argparse.ArgumentParser(description='Train Unet on FastMRI challenge Images',\n",
    "                                    formatter_class=argparse.ArgumentDefaultsHelpFormatter)\n",
    "    parser.add_argument('-g', '--GPU-NUM', type=int, default=0, help='GPU number to allocate')\n",
    "    parser.add_argument('-b', '--batch-size', type=int, default=1, help='Batch size')\n",
    "    parser.add_argument('-e', '--num-epochs', type=int, default=30, help='Number of epochs')\n",
    "    parser.add_argument('-l', '--lr', type=float, default=1e-3, help='Learning rate')\n",
    "    parser.add_argument('-r', '--report-interval', type=int, default=100, help='Report interval')\n",
    "    parser.add_argument('-n', '--net-name', type=Path, default='test_dircn', help='Name of network')\n",
    "    # parser.add_argument('-t', '--data-path-train', type=Path, default='/content/drive/Shareddrives/2022 FastMRI/train_real/', help='Directory of train data')\n",
    "    # parser.add_argument('-v', '--data-path-val', type=Path, default='/content/drive/Shareddrives/2022 FastMRI/val_real/', help='Directory of validation data')\n",
    "    parser.add_argument('-t', '--data-path-train', type=Path, default='/content/drive/MyDrive/FastMRI_LHS/train/', help='Directory of train data')\n",
    "    parser.add_argument('-v', '--data-path-val', type=Path, default='/content/drive/MyDrive/FastMRI_LHS/val/', help='Directory of validation data')\n",
    "    parser.add_argument('--cascade', type=int, default=5, help='Number of cascades | Should be less than 12') ## important hyperparameter\n",
    "    parser.add_argument('--input-key', type=str, default='kspace', help='Name of input key')\n",
    "    parser.add_argument('--target-key', type=str, default='image_label', help='Name of target key')\n",
    "    parser.add_argument('--max-key', type=str, default='max', help='Name of max key in attributes')\n",
    "\n",
    "    args = parser.parse_args(args=[])\n",
    "    return args\n",
    "\n",
    "if __name__ == '__main__':\n",
    "    args = parse()\n",
    "    args.exp_dir = '/content/drive/MyDrive/FastMRI_LHS/result/test_result_dircn' / args.net_name / 'checkpoints'\n",
    "    args.val_dir = '/content/drive/MyDrive/FastMRI_LHS/result/test_result_dircn' / args.net_name / 'reconstructions_val'\n",
    "    #args.main_dir = '/content/drive/MyDrive/2022 FastMRI/result_varnet' / args.net_name / __file__\n",
    "    \n",
    "    args.exp_dir.mkdir(parents=True, exist_ok=True)\n",
    "    args.val_dir.mkdir(parents=True, exist_ok=True)\n",
    "\n",
    "    seed_fix(42)\n",
    "\n",
    "    train(args)"
   ],
   "metadata": {
    "id": "uOTBfEwaDO9G",
    "colab": {
     "base_uri": "https://localhost:8080/",
     "height": 1000
    },
    "outputId": "69c1cb8e-ecf3-4bc1-e337-4caa7b338320",
    "executionInfo": {
     "status": "error",
     "timestamp": 1660782425045,
     "user_tz": -540,
     "elapsed": 77548230,
     "user": {
      "displayName": "이현수",
      "userId": "13849497981450636245"
     }
    },
    "pycharm": {
     "name": "#%%\n"
    }
   },
   "execution_count": 4,
   "outputs": [
    {
     "output_type": "stream",
     "name": "stdout",
     "text": [
      "Current cuda device:  0\n",
      "Epoch # 0 ............... test_dircn ...............\n"
     ]
    },
    {
     "output_type": "stream",
     "name": "stderr",
     "text": [
      "/content/drive/MyDrive/FastMRI_LHS/FastMRI_challenge-2022_varnet/utils/model/dircn/dircn_attn.py:214: UserWarning: __floordiv__ is deprecated, and its behavior will change in a future version of pytorch. It currently rounds toward 0 (like the 'trunc' function NOT 'floor'). This results in incorrect rounding for negative values. To keep the current behavior, use torch.div(a, b, rounding_mode='trunc'), or for actual floor division, use torch.div(a, b, rounding_mode='floor').\n",
      "  pad = (mask.shape[-2] - num_low_freqs + 1) // 2\n",
      "/content/drive/MyDrive/FastMRI_LHS/FastMRI_challenge-2022_varnet/utils/model/dircn/dircn_attn.py:396: UserWarning: where received a uint8 condition tensor. This behavior is deprecated and will be removed in a future version of PyTorch. Use a boolean condition instead. (Triggered internally at  ../aten/src/ATen/native/TensorCompare.cpp:402.)\n",
      "  model_term_expanded)\n"
     ]
    },
    {
     "output_type": "stream",
     "name": "stdout",
     "text": [
      "Epoch = [  0/ 30] Iter = [   0/4448] Loss = 0.264 Time = 2.7920s\n",
      "Epoch = [  0/ 30] Iter = [ 100/4448] Loss = 0.1812 Time = 241.2849s\n",
      "Epoch = [  0/ 30] Iter = [ 200/4448] Loss = 0.09709 Time = 227.7204s\n",
      "Epoch = [  0/ 30] Iter = [ 300/4448] Loss = 0.09255 Time = 229.7760s\n",
      "Epoch = [  0/ 30] Iter = [ 400/4448] Loss = 0.1295 Time = 265.3629s\n",
      "Epoch = [  0/ 30] Iter = [ 500/4448] Loss = 0.09413 Time = 256.9321s\n",
      "Epoch = [  0/ 30] Iter = [ 600/4448] Loss = 0.07659 Time = 252.0011s\n",
      "Epoch = [  0/ 30] Iter = [ 700/4448] Loss = 0.1015 Time = 266.2744s\n",
      "Epoch = [  0/ 30] Iter = [ 800/4448] Loss = 0.08156 Time = 265.6784s\n",
      "Epoch = [  0/ 30] Iter = [ 900/4448] Loss = 0.06825 Time = 255.0510s\n",
      "Epoch = [  0/ 30] Iter = [1000/4448] Loss = 0.1055 Time = 266.7399s\n",
      "Epoch = [  0/ 30] Iter = [1100/4448] Loss = 0.1439 Time = 263.2042s\n",
      "Epoch = [  0/ 30] Iter = [1200/4448] Loss = 0.0848 Time = 275.9051s\n",
      "Epoch = [  0/ 30] Iter = [1300/4448] Loss = 0.1321 Time = 275.4217s\n",
      "Epoch = [  0/ 30] Iter = [1400/4448] Loss = 0.06479 Time = 267.5888s\n",
      "Epoch = [  0/ 30] Iter = [1500/4448] Loss = 0.0726 Time = 280.7553s\n",
      "Epoch = [  0/ 30] Iter = [1600/4448] Loss = 0.06235 Time = 244.6596s\n",
      "Epoch = [  0/ 30] Iter = [1700/4448] Loss = 0.06203 Time = 278.4151s\n",
      "Epoch = [  0/ 30] Iter = [1800/4448] Loss = 0.05947 Time = 285.7998s\n",
      "Epoch = [  0/ 30] Iter = [1900/4448] Loss = 0.06835 Time = 235.6884s\n",
      "Epoch = [  0/ 30] Iter = [2000/4448] Loss = 0.04833 Time = 276.3326s\n",
      "Epoch = [  0/ 30] Iter = [2100/4448] Loss = 0.0675 Time = 239.0222s\n",
      "Epoch = [  0/ 30] Iter = [2200/4448] Loss = 0.05512 Time = 268.5395s\n",
      "Epoch = [  0/ 30] Iter = [2300/4448] Loss = 0.06558 Time = 271.8028s\n",
      "Epoch = [  0/ 30] Iter = [2400/4448] Loss = 0.06423 Time = 259.7320s\n",
      "Epoch = [  0/ 30] Iter = [2500/4448] Loss = 0.07938 Time = 232.6788s\n",
      "Epoch = [  0/ 30] Iter = [2600/4448] Loss = 0.05949 Time = 275.0899s\n",
      "Epoch = [  0/ 30] Iter = [2700/4448] Loss = 0.04389 Time = 278.9478s\n",
      "Epoch = [  0/ 30] Iter = [2800/4448] Loss = 0.04909 Time = 275.2573s\n",
      "Epoch = [  0/ 30] Iter = [2900/4448] Loss = 0.05967 Time = 276.4372s\n",
      "Epoch = [  0/ 30] Iter = [3000/4448] Loss = 0.09709 Time = 269.8688s\n",
      "Epoch = [  0/ 30] Iter = [3100/4448] Loss = 0.05906 Time = 246.4188s\n",
      "Epoch = [  0/ 30] Iter = [3200/4448] Loss = 0.0464 Time = 263.2382s\n",
      "Epoch = [  0/ 30] Iter = [3300/4448] Loss = 0.04537 Time = 270.6974s\n",
      "Epoch = [  0/ 30] Iter = [3400/4448] Loss = 0.05503 Time = 266.8634s\n",
      "Epoch = [  0/ 30] Iter = [3500/4448] Loss = 0.05546 Time = 255.9653s\n",
      "Epoch = [  0/ 30] Iter = [3600/4448] Loss = 0.06119 Time = 257.1150s\n",
      "Epoch = [  0/ 30] Iter = [3700/4448] Loss = 0.07313 Time = 263.2525s\n",
      "Epoch = [  0/ 30] Iter = [3800/4448] Loss = 0.06188 Time = 251.7552s\n",
      "Epoch = [  0/ 30] Iter = [3900/4448] Loss = 0.06764 Time = 246.8481s\n",
      "Epoch = [  0/ 30] Iter = [4000/4448] Loss = 0.1363 Time = 245.8472s\n",
      "Epoch = [  0/ 30] Iter = [4100/4448] Loss = 0.05632 Time = 252.3714s\n",
      "Epoch = [  0/ 30] Iter = [4200/4448] Loss = 0.07052 Time = 278.7616s\n",
      "Epoch = [  0/ 30] Iter = [4300/4448] Loss = 0.03514 Time = 289.1863s\n",
      "Epoch = [  0/ 30] Iter = [4400/4448] Loss = 0.0494 Time = 274.8609s\n",
      "Epoch = [   0/  30] TrainLoss = 0.07976 ValLoss = 0.05018 TrainTime = 11636.3006s ValTime = 3212.3458s\n",
      "@@@@@@@@@@@@@@@@@@@@@@@@@@@@@@@@@@@@NewRecord@@@@@@@@@@@@@@@@@@@@@@@@@@@@\n",
      "ForwardTime = 14.9112s\n",
      "Epoch # 1 ............... test_dircn ...............\n",
      "Epoch = [  1/ 30] Iter = [   0/4448] Loss = 0.06032 Time = 6.2849s\n",
      "Epoch = [  1/ 30] Iter = [ 100/4448] Loss = 0.08141 Time = 241.2318s\n",
      "Epoch = [  1/ 30] Iter = [ 200/4448] Loss = 0.05698 Time = 240.6044s\n",
      "Epoch = [  1/ 30] Iter = [ 300/4448] Loss = 0.06999 Time = 245.9698s\n",
      "Epoch = [  1/ 30] Iter = [ 400/4448] Loss = 0.05358 Time = 240.4054s\n",
      "Epoch = [  1/ 30] Iter = [ 500/4448] Loss = 0.04666 Time = 235.2617s\n",
      "Epoch = [  1/ 30] Iter = [ 600/4448] Loss = 0.05888 Time = 224.4294s\n",
      "Epoch = [  1/ 30] Iter = [ 700/4448] Loss = 0.06273 Time = 228.2849s\n",
      "Epoch = [  1/ 30] Iter = [ 800/4448] Loss = 0.04806 Time = 242.9463s\n",
      "Epoch = [  1/ 30] Iter = [ 900/4448] Loss = 0.05111 Time = 214.4988s\n",
      "Epoch = [  1/ 30] Iter = [1000/4448] Loss = 0.06725 Time = 230.6780s\n",
      "Epoch = [  1/ 30] Iter = [1100/4448] Loss = 0.05677 Time = 224.9244s\n",
      "Epoch = [  1/ 30] Iter = [1200/4448] Loss = 0.05773 Time = 226.6063s\n",
      "Epoch = [  1/ 30] Iter = [1300/4448] Loss = 0.04089 Time = 229.8128s\n",
      "Epoch = [  1/ 30] Iter = [1400/4448] Loss = 0.04249 Time = 237.5576s\n",
      "Epoch = [  1/ 30] Iter = [1500/4448] Loss = 0.06193 Time = 238.4683s\n",
      "Epoch = [  1/ 30] Iter = [1600/4448] Loss = 0.04826 Time = 212.9678s\n",
      "Epoch = [  1/ 30] Iter = [1700/4448] Loss = 0.05914 Time = 228.4449s\n",
      "Epoch = [  1/ 30] Iter = [1800/4448] Loss = 0.03646 Time = 249.8669s\n",
      "Epoch = [  1/ 30] Iter = [1900/4448] Loss = 0.0574 Time = 185.7618s\n",
      "Epoch = [  1/ 30] Iter = [2000/4448] Loss = 0.04821 Time = 235.3296s\n",
      "Epoch = [  1/ 30] Iter = [2100/4448] Loss = 0.0591 Time = 225.7726s\n",
      "Epoch = [  1/ 30] Iter = [2200/4448] Loss = 0.04847 Time = 226.3758s\n",
      "Epoch = [  1/ 30] Iter = [2300/4448] Loss = 0.04651 Time = 236.3341s\n",
      "Epoch = [  1/ 30] Iter = [2400/4448] Loss = 0.04056 Time = 225.0483s\n",
      "Epoch = [  1/ 30] Iter = [2500/4448] Loss = 0.06499 Time = 226.3023s\n",
      "Epoch = [  1/ 30] Iter = [2600/4448] Loss = 0.04829 Time = 236.5536s\n",
      "Epoch = [  1/ 30] Iter = [2700/4448] Loss = 0.03376 Time = 225.5471s\n",
      "Epoch = [  1/ 30] Iter = [2800/4448] Loss = 0.03886 Time = 225.9786s\n",
      "Epoch = [  1/ 30] Iter = [2900/4448] Loss = 0.04825 Time = 225.4202s\n",
      "Epoch = [  1/ 30] Iter = [3000/4448] Loss = 0.06761 Time = 224.2261s\n",
      "Epoch = [  1/ 30] Iter = [3100/4448] Loss = 0.05128 Time = 234.2883s\n",
      "Epoch = [  1/ 30] Iter = [3200/4448] Loss = 0.04362 Time = 210.9268s\n",
      "Epoch = [  1/ 30] Iter = [3300/4448] Loss = 0.04283 Time = 242.5149s\n",
      "Epoch = [  1/ 30] Iter = [3400/4448] Loss = 0.04431 Time = 236.5165s\n",
      "Epoch = [  1/ 30] Iter = [3500/4448] Loss = 0.03825 Time = 248.3876s\n",
      "Epoch = [  1/ 30] Iter = [3600/4448] Loss = 0.05521 Time = 248.6648s\n",
      "Epoch = [  1/ 30] Iter = [3700/4448] Loss = 0.05969 Time = 246.3377s\n",
      "Epoch = [  1/ 30] Iter = [3800/4448] Loss = 0.05164 Time = 236.0390s\n",
      "Epoch = [  1/ 30] Iter = [3900/4448] Loss = 0.04885 Time = 212.5927s\n",
      "Epoch = [  1/ 30] Iter = [4000/4448] Loss = 0.1188 Time = 234.0142s\n",
      "Epoch = [  1/ 30] Iter = [4100/4448] Loss = 0.04492 Time = 220.1570s\n",
      "Epoch = [  1/ 30] Iter = [4200/4448] Loss = 0.06182 Time = 246.1994s\n",
      "Epoch = [  1/ 30] Iter = [4300/4448] Loss = 0.03145 Time = 236.0372s\n",
      "Epoch = [  1/ 30] Iter = [4400/4448] Loss = 0.04149 Time = 247.3468s\n",
      "Epoch = [   1/  30] TrainLoss = 0.05468 ValLoss = 0.04258 TrainTime = 10319.5998s ValTime = 2829.0477s\n",
      "@@@@@@@@@@@@@@@@@@@@@@@@@@@@@@@@@@@@NewRecord@@@@@@@@@@@@@@@@@@@@@@@@@@@@\n",
      "ForwardTime = 93.5483s\n",
      "Epoch # 2 ............... test_dircn ...............\n",
      "Epoch = [  2/ 30] Iter = [   0/4448] Loss = 0.04812 Time = 5.0150s\n",
      "Epoch = [  2/ 30] Iter = [ 100/4448] Loss = 0.07336 Time = 264.0577s\n",
      "Epoch = [  2/ 30] Iter = [ 200/4448] Loss = 0.04729 Time = 260.7937s\n",
      "Epoch = [  2/ 30] Iter = [ 300/4448] Loss = 0.06352 Time = 249.6400s\n",
      "Epoch = [  2/ 30] Iter = [ 400/4448] Loss = 0.0433 Time = 276.3451s\n",
      "Epoch = [  2/ 30] Iter = [ 500/4448] Loss = 0.04139 Time = 260.7732s\n",
      "Epoch = [  2/ 30] Iter = [ 600/4448] Loss = 0.05327 Time = 306.9973s\n",
      "Epoch = [  2/ 30] Iter = [ 700/4448] Loss = 0.05546 Time = 354.5443s\n",
      "Epoch = [  2/ 30] Iter = [ 800/4448] Loss = 0.04247 Time = 332.6984s\n",
      "Epoch = [  2/ 30] Iter = [ 900/4448] Loss = 0.04296 Time = 280.1160s\n",
      "Epoch = [  2/ 30] Iter = [1000/4448] Loss = 0.06592 Time = 252.9539s\n",
      "Epoch = [  2/ 30] Iter = [1100/4448] Loss = 0.04736 Time = 252.7219s\n",
      "Epoch = [  2/ 30] Iter = [1200/4448] Loss = 0.05391 Time = 260.6509s\n",
      "Epoch = [  2/ 30] Iter = [1300/4448] Loss = 0.03734 Time = 273.3288s\n",
      "Epoch = [  2/ 30] Iter = [1400/4448] Loss = 0.03728 Time = 265.5987s\n",
      "Epoch = [  2/ 30] Iter = [1500/4448] Loss = 0.05686 Time = 267.1733s\n",
      "Epoch = [  2/ 30] Iter = [1600/4448] Loss = 0.04306 Time = 255.0363s\n",
      "Epoch = [  2/ 30] Iter = [1700/4448] Loss = 0.05669 Time = 284.3222s\n",
      "Epoch = [  2/ 30] Iter = [1800/4448] Loss = 0.03052 Time = 309.3706s\n",
      "Epoch = [  2/ 30] Iter = [1900/4448] Loss = 0.05354 Time = 248.3389s\n",
      "Epoch = [  2/ 30] Iter = [2000/4448] Loss = 0.04262 Time = 323.5945s\n",
      "Epoch = [  2/ 30] Iter = [2100/4448] Loss = 0.0545 Time = 267.1010s\n",
      "Epoch = [  2/ 30] Iter = [2200/4448] Loss = 0.04341 Time = 324.4475s\n",
      "Epoch = [  2/ 30] Iter = [2300/4448] Loss = 0.04185 Time = 304.4941s\n",
      "Epoch = [  2/ 30] Iter = [2400/4448] Loss = 0.03555 Time = 297.8966s\n",
      "Epoch = [  2/ 30] Iter = [2500/4448] Loss = 0.06098 Time = 257.0982s\n",
      "Epoch = [  2/ 30] Iter = [2600/4448] Loss = 0.04001 Time = 300.5996s\n",
      "Epoch = [  2/ 30] Iter = [2700/4448] Loss = 0.0307 Time = 266.9531s\n",
      "Epoch = [  2/ 30] Iter = [2800/4448] Loss = 0.03627 Time = 290.7236s\n",
      "Epoch = [  2/ 30] Iter = [2900/4448] Loss = 0.04539 Time = 284.9003s\n",
      "Epoch = [  2/ 30] Iter = [3000/4448] Loss = 0.05859 Time = 274.7891s\n",
      "Epoch = [  2/ 30] Iter = [3100/4448] Loss = 0.04812 Time = 283.3324s\n",
      "Epoch = [  2/ 30] Iter = [3200/4448] Loss = 0.03806 Time = 273.9071s\n",
      "Epoch = [  2/ 30] Iter = [3300/4448] Loss = 0.03825 Time = 272.7280s\n",
      "Epoch = [  2/ 30] Iter = [3400/4448] Loss = 0.04116 Time = 270.3630s\n",
      "Epoch = [  2/ 30] Iter = [3500/4448] Loss = 0.03578 Time = 263.8781s\n",
      "Epoch = [  2/ 30] Iter = [3600/4448] Loss = 0.05308 Time = 274.2762s\n",
      "Epoch = [  2/ 30] Iter = [3700/4448] Loss = 0.05518 Time = 283.9820s\n",
      "Epoch = [  2/ 30] Iter = [3800/4448] Loss = 0.04873 Time = 273.4288s\n",
      "Epoch = [  2/ 30] Iter = [3900/4448] Loss = 0.05213 Time = 290.3704s\n",
      "Epoch = [  2/ 30] Iter = [4000/4448] Loss = 0.1095 Time = 257.6121s\n",
      "Epoch = [  2/ 30] Iter = [4100/4448] Loss = 0.04192 Time = 266.6324s\n",
      "Epoch = [  2/ 30] Iter = [4200/4448] Loss = 0.05927 Time = 287.9193s\n",
      "Epoch = [  2/ 30] Iter = [4300/4448] Loss = 0.02916 Time = 309.6506s\n",
      "Epoch = [  2/ 30] Iter = [4400/4448] Loss = 0.03758 Time = 303.1972s\n",
      "Epoch = [   2/  30] TrainLoss = 0.04983 ValLoss = 0.04059 TrainTime = 12508.4832s ValTime = 4004.1586s\n",
      "@@@@@@@@@@@@@@@@@@@@@@@@@@@@@@@@@@@@NewRecord@@@@@@@@@@@@@@@@@@@@@@@@@@@@\n",
      "ForwardTime = 82.7999s\n",
      "Epoch # 3 ............... test_dircn ...............\n",
      "Epoch = [  3/ 30] Iter = [   0/4448] Loss = 0.04337 Time = 6.3534s\n",
      "Epoch = [  3/ 30] Iter = [ 100/4448] Loss = 0.07019 Time = 296.3328s\n",
      "Epoch = [  3/ 30] Iter = [ 200/4448] Loss = 0.04556 Time = 264.0965s\n",
      "Epoch = [  3/ 30] Iter = [ 300/4448] Loss = 0.06676 Time = 257.2842s\n",
      "Epoch = [  3/ 30] Iter = [ 400/4448] Loss = 0.03943 Time = 317.7779s\n",
      "Epoch = [  3/ 30] Iter = [ 500/4448] Loss = 0.03971 Time = 278.8024s\n",
      "Epoch = [  3/ 30] Iter = [ 600/4448] Loss = 0.05331 Time = 266.7261s\n",
      "Epoch = [  3/ 30] Iter = [ 700/4448] Loss = 0.05309 Time = 325.5317s\n",
      "Epoch = [  3/ 30] Iter = [ 800/4448] Loss = 0.04103 Time = 400.4642s\n",
      "Epoch = [  3/ 30] Iter = [ 900/4448] Loss = 0.04104 Time = 302.8596s\n",
      "Epoch = [  3/ 30] Iter = [1000/4448] Loss = 0.06477 Time = 262.5971s\n",
      "Epoch = [  3/ 30] Iter = [1100/4448] Loss = 0.04555 Time = 297.9288s\n",
      "Epoch = [  3/ 30] Iter = [1200/4448] Loss = 0.04977 Time = 293.8890s\n",
      "Epoch = [  3/ 30] Iter = [1300/4448] Loss = 0.0368 Time = 305.9564s\n",
      "Epoch = [  3/ 30] Iter = [1400/4448] Loss = 0.03444 Time = 314.6280s\n",
      "Epoch = [  3/ 30] Iter = [1500/4448] Loss = 0.05504 Time = 273.5962s\n",
      "Epoch = [  3/ 30] Iter = [1600/4448] Loss = 0.04034 Time = 262.1333s\n",
      "Epoch = [  3/ 30] Iter = [1700/4448] Loss = 0.05578 Time = 319.7864s\n",
      "Epoch = [  3/ 30] Iter = [1800/4448] Loss = 0.02706 Time = 298.4578s\n",
      "Epoch = [  3/ 30] Iter = [1900/4448] Loss = 0.0519 Time = 238.4916s\n",
      "Epoch = [  3/ 30] Iter = [2000/4448] Loss = 0.04137 Time = 281.5012s\n",
      "Epoch = [  3/ 30] Iter = [2100/4448] Loss = 0.0522 Time = 257.1690s\n",
      "Epoch = [  3/ 30] Iter = [2200/4448] Loss = 0.04188 Time = 277.9675s\n",
      "Epoch = [  3/ 30] Iter = [2300/4448] Loss = 0.03963 Time = 294.0501s\n",
      "Epoch = [  3/ 30] Iter = [2400/4448] Loss = 0.03677 Time = 276.1103s\n",
      "Epoch = [  3/ 30] Iter = [2500/4448] Loss = 0.05973 Time = 250.1488s\n",
      "Epoch = [  3/ 30] Iter = [2600/4448] Loss = 0.03596 Time = 311.6658s\n",
      "Epoch = [  3/ 30] Iter = [2700/4448] Loss = 0.02958 Time = 282.6761s\n",
      "Epoch = [  3/ 30] Iter = [2800/4448] Loss = 0.03421 Time = 282.1791s\n",
      "Epoch = [  3/ 30] Iter = [2900/4448] Loss = 0.04355 Time = 300.9537s\n",
      "Epoch = [  3/ 30] Iter = [3000/4448] Loss = 0.05399 Time = 294.0091s\n",
      "Epoch = [  3/ 30] Iter = [3100/4448] Loss = 0.0459 Time = 258.4170s\n",
      "Epoch = [  3/ 30] Iter = [3200/4448] Loss = 0.03572 Time = 270.8779s\n",
      "Epoch = [  3/ 30] Iter = [3300/4448] Loss = 0.03765 Time = 254.6083s\n",
      "Epoch = [  3/ 30] Iter = [3400/4448] Loss = 0.03851 Time = 330.6449s\n",
      "Epoch = [  3/ 30] Iter = [3500/4448] Loss = 0.0341 Time = 260.0743s\n",
      "Epoch = [  3/ 30] Iter = [3600/4448] Loss = 0.05577 Time = 270.2398s\n",
      "Epoch = [  3/ 30] Iter = [3700/4448] Loss = 0.05079 Time = 247.7705s\n",
      "Epoch = [  3/ 30] Iter = [3800/4448] Loss = 0.04761 Time = 267.5411s\n",
      "Epoch = [  3/ 30] Iter = [3900/4448] Loss = 0.0503 Time = 298.7711s\n",
      "Epoch = [  3/ 30] Iter = [4000/4448] Loss = 0.107 Time = 257.4641s\n",
      "Epoch = [  3/ 30] Iter = [4100/4448] Loss = 0.0391 Time = 292.6199s\n",
      "Epoch = [  3/ 30] Iter = [4200/4448] Loss = 0.05902 Time = 278.5037s\n",
      "Epoch = [  3/ 30] Iter = [4300/4448] Loss = 0.02845 Time = 300.7102s\n",
      "Epoch = [  3/ 30] Iter = [4400/4448] Loss = 0.03429 Time = 307.0093s\n",
      "Epoch = [   3/  30] TrainLoss = 0.04792 ValLoss = 0.03878 TrainTime = 12709.1566s ValTime = 3306.2493s\n",
      "@@@@@@@@@@@@@@@@@@@@@@@@@@@@@@@@@@@@NewRecord@@@@@@@@@@@@@@@@@@@@@@@@@@@@\n",
      "ForwardTime = 94.5080s\n",
      "Epoch # 4 ............... test_dircn ...............\n",
      "Epoch = [  4/ 30] Iter = [   0/4448] Loss = 0.04175 Time = 3.7971s\n",
      "Epoch = [  4/ 30] Iter = [ 100/4448] Loss = 0.06861 Time = 269.0476s\n",
      "Epoch = [  4/ 30] Iter = [ 200/4448] Loss = 0.04428 Time = 262.6135s\n",
      "Epoch = [  4/ 30] Iter = [ 300/4448] Loss = 0.06404 Time = 255.1552s\n",
      "Epoch = [  4/ 30] Iter = [ 400/4448] Loss = 0.03653 Time = 244.7503s\n",
      "Epoch = [  4/ 30] Iter = [ 500/4448] Loss = 0.035 Time = 247.8582s\n",
      "Epoch = [  4/ 30] Iter = [ 600/4448] Loss = 0.05187 Time = 241.1671s\n",
      "Epoch = [  4/ 30] Iter = [ 700/4448] Loss = 0.05434 Time = 238.1688s\n",
      "Epoch = [  4/ 30] Iter = [ 800/4448] Loss = 0.03945 Time = 246.4033s\n",
      "Epoch = [  4/ 30] Iter = [ 900/4448] Loss = 0.03946 Time = 250.0859s\n",
      "Epoch = [  4/ 30] Iter = [1000/4448] Loss = 0.0615 Time = 256.3745s\n",
      "Epoch = [  4/ 30] Iter = [1100/4448] Loss = 0.0435 Time = 257.1536s\n",
      "Epoch = [  4/ 30] Iter = [1200/4448] Loss = 0.04701 Time = 248.5815s\n",
      "Epoch = [  4/ 30] Iter = [1300/4448] Loss = 0.03454 Time = 252.2340s\n",
      "Epoch = [  4/ 30] Iter = [1400/4448] Loss = 0.03239 Time = 269.4112s\n",
      "Epoch = [  4/ 30] Iter = [1500/4448] Loss = 0.05392 Time = 272.6818s\n",
      "Epoch = [  4/ 30] Iter = [1600/4448] Loss = 0.03908 Time = 233.8147s\n",
      "Epoch = [  4/ 30] Iter = [1700/4448] Loss = 0.05523 Time = 266.2021s\n",
      "Epoch = [  4/ 30] Iter = [1800/4448] Loss = 0.02559 Time = 260.8979s\n",
      "Epoch = [  4/ 30] Iter = [1900/4448] Loss = 0.05169 Time = 218.1075s\n",
      "Epoch = [  4/ 30] Iter = [2000/4448] Loss = 0.04009 Time = 256.5820s\n",
      "Epoch = [  4/ 30] Iter = [2100/4448] Loss = 0.04949 Time = 222.0939s\n",
      "Epoch = [  4/ 30] Iter = [2200/4448] Loss = 0.04136 Time = 254.4805s\n",
      "Epoch = [  4/ 30] Iter = [2300/4448] Loss = 0.03894 Time = 284.5510s\n",
      "Epoch = [  4/ 30] Iter = [2400/4448] Loss = 0.03631 Time = 284.1475s\n",
      "Epoch = [  4/ 30] Iter = [2500/4448] Loss = 0.06062 Time = 261.3113s\n",
      "Epoch = [  4/ 30] Iter = [2600/4448] Loss = 0.03472 Time = 292.7426s\n",
      "Epoch = [  4/ 30] Iter = [2700/4448] Loss = 0.0283 Time = 279.7424s\n",
      "Epoch = [  4/ 30] Iter = [2800/4448] Loss = 0.03326 Time = 259.0875s\n",
      "Epoch = [  4/ 30] Iter = [2900/4448] Loss = 0.04439 Time = 283.1337s\n",
      "Epoch = [  4/ 30] Iter = [3000/4448] Loss = 0.05141 Time = 250.8833s\n",
      "Epoch = [  4/ 30] Iter = [3100/4448] Loss = 0.04458 Time = 269.9193s\n",
      "Epoch = [  4/ 30] Iter = [3200/4448] Loss = 0.03443 Time = 235.5547s\n",
      "Epoch = [  4/ 30] Iter = [3300/4448] Loss = 0.03697 Time = 255.2220s\n",
      "Epoch = [  4/ 30] Iter = [3400/4448] Loss = 0.03394 Time = 241.1732s\n",
      "Epoch = [  4/ 30] Iter = [3500/4448] Loss = 0.03101 Time = 237.7126s\n",
      "Epoch = [  4/ 30] Iter = [3600/4448] Loss = 0.05033 Time = 225.8469s\n",
      "Epoch = [  4/ 30] Iter = [3700/4448] Loss = 0.04898 Time = 233.9736s\n",
      "Epoch = [  4/ 30] Iter = [3800/4448] Loss = 0.04703 Time = 264.1498s\n",
      "Epoch = [  4/ 30] Iter = [3900/4448] Loss = 0.04975 Time = 260.7708s\n",
      "Epoch = [  4/ 30] Iter = [4000/4448] Loss = 0.103 Time = 221.3914s\n",
      "Epoch = [  4/ 30] Iter = [4100/4448] Loss = 0.03817 Time = 219.7569s\n",
      "Epoch = [  4/ 30] Iter = [4200/4448] Loss = 0.05655 Time = 282.7163s\n",
      "Epoch = [  4/ 30] Iter = [4300/4448] Loss = 0.02779 Time = 241.6942s\n",
      "Epoch = [  4/ 30] Iter = [4400/4448] Loss = 0.03249 Time = 257.6158s\n",
      "Epoch = [   4/  30] TrainLoss = 0.046 ValLoss = 0.03756 TrainTime = 11279.1524s ValTime = 3088.7749s\n",
      "@@@@@@@@@@@@@@@@@@@@@@@@@@@@@@@@@@@@NewRecord@@@@@@@@@@@@@@@@@@@@@@@@@@@@\n",
      "ForwardTime = 95.1844s\n",
      "Epoch # 5 ............... test_dircn ...............\n",
      "Epoch = [  5/ 30] Iter = [   0/4448] Loss = 0.04037 Time = 5.5898s\n",
      "Epoch = [  5/ 30] Iter = [ 100/4448] Loss = 0.06703 Time = 246.7270s\n",
      "Epoch = [  5/ 30] Iter = [ 200/4448] Loss = 0.04352 Time = 218.5135s\n",
      "Epoch = [  5/ 30] Iter = [ 300/4448] Loss = 0.05967 Time = 204.5320s\n",
      "Epoch = [  5/ 30] Iter = [ 400/4448] Loss = 0.03522 Time = 235.5398s\n",
      "Epoch = [  5/ 30] Iter = [ 500/4448] Loss = 0.0335 Time = 236.3447s\n",
      "Epoch = [  5/ 30] Iter = [ 600/4448] Loss = 0.05102 Time = 227.3185s\n",
      "Epoch = [  5/ 30] Iter = [ 700/4448] Loss = 0.05247 Time = 221.0641s\n",
      "Epoch = [  5/ 30] Iter = [ 800/4448] Loss = 0.03837 Time = 246.2763s\n"
     ]
    },
    {
     "output_type": "error",
     "ename": "KeyboardInterrupt",
     "evalue": "ignored",
     "traceback": [
      "\u001B[0;31m---------------------------------------------------------------------------\u001B[0m",
      "\u001B[0;31mKeyboardInterrupt\u001B[0m                         Traceback (most recent call last)",
      "\u001B[0;32m<ipython-input-4-9857c3ec82d9>\u001B[0m in \u001B[0;36m<module>\u001B[0;34m\u001B[0m\n\u001B[1;32m     43\u001B[0m     \u001B[0mseed_fix\u001B[0m\u001B[0;34m(\u001B[0m\u001B[0;36m42\u001B[0m\u001B[0;34m)\u001B[0m\u001B[0;34m\u001B[0m\u001B[0;34m\u001B[0m\u001B[0m\n\u001B[1;32m     44\u001B[0m \u001B[0;34m\u001B[0m\u001B[0m\n\u001B[0;32m---> 45\u001B[0;31m     \u001B[0mtrain\u001B[0m\u001B[0;34m(\u001B[0m\u001B[0margs\u001B[0m\u001B[0;34m)\u001B[0m\u001B[0;34m\u001B[0m\u001B[0;34m\u001B[0m\u001B[0m\n\u001B[0m",
      "\u001B[0;32m/content/drive/MyDrive/FastMRI_LHS/FastMRI_challenge-2022_varnet/utils/learning/train_part_dircn_attn.py\u001B[0m in \u001B[0;36mtrain\u001B[0;34m(args)\u001B[0m\n\u001B[1;32m    139\u001B[0m         \u001B[0mprint\u001B[0m\u001B[0;34m(\u001B[0m\u001B[0;34mf'Epoch #{epoch:2d} ............... {args.net_name} ...............'\u001B[0m\u001B[0;34m)\u001B[0m\u001B[0;34m\u001B[0m\u001B[0;34m\u001B[0m\u001B[0m\n\u001B[1;32m    140\u001B[0m \u001B[0;34m\u001B[0m\u001B[0m\n\u001B[0;32m--> 141\u001B[0;31m         \u001B[0mtrain_loss\u001B[0m\u001B[0;34m,\u001B[0m \u001B[0mtrain_time\u001B[0m \u001B[0;34m=\u001B[0m \u001B[0mtrain_epoch\u001B[0m\u001B[0;34m(\u001B[0m\u001B[0margs\u001B[0m\u001B[0;34m,\u001B[0m \u001B[0mepoch\u001B[0m\u001B[0;34m,\u001B[0m \u001B[0mmodel\u001B[0m\u001B[0;34m,\u001B[0m \u001B[0mtrain_loader\u001B[0m\u001B[0;34m,\u001B[0m \u001B[0moptimizer\u001B[0m\u001B[0;34m,\u001B[0m \u001B[0mloss_type\u001B[0m\u001B[0;34m)\u001B[0m\u001B[0;34m\u001B[0m\u001B[0;34m\u001B[0m\u001B[0m\n\u001B[0m\u001B[1;32m    142\u001B[0m         \u001B[0mval_loss\u001B[0m\u001B[0;34m,\u001B[0m \u001B[0mnum_subjects\u001B[0m\u001B[0;34m,\u001B[0m \u001B[0mreconstructions\u001B[0m\u001B[0;34m,\u001B[0m \u001B[0mtargets\u001B[0m\u001B[0;34m,\u001B[0m \u001B[0minputs\u001B[0m\u001B[0;34m,\u001B[0m \u001B[0mval_time\u001B[0m \u001B[0;34m=\u001B[0m \u001B[0mvalidate\u001B[0m\u001B[0;34m(\u001B[0m\u001B[0margs\u001B[0m\u001B[0;34m,\u001B[0m \u001B[0mmodel\u001B[0m\u001B[0;34m,\u001B[0m \u001B[0mval_loader\u001B[0m\u001B[0;34m)\u001B[0m\u001B[0;34m\u001B[0m\u001B[0;34m\u001B[0m\u001B[0m\n\u001B[1;32m    143\u001B[0m \u001B[0;34m\u001B[0m\u001B[0m\n",
      "\u001B[0;32m/content/drive/MyDrive/FastMRI_LHS/FastMRI_challenge-2022_varnet/utils/learning/train_part_dircn_attn.py\u001B[0m in \u001B[0;36mtrain_epoch\u001B[0;34m(args, epoch, model, data_loader, optimizer, loss_type)\u001B[0m\n\u001B[1;32m     32\u001B[0m         \u001B[0mloss\u001B[0m \u001B[0;34m=\u001B[0m \u001B[0mloss_type\u001B[0m\u001B[0;34m(\u001B[0m\u001B[0moutput\u001B[0m\u001B[0;34m,\u001B[0m \u001B[0mtarget\u001B[0m\u001B[0;34m,\u001B[0m \u001B[0mmaximum\u001B[0m\u001B[0;34m)\u001B[0m\u001B[0;34m\u001B[0m\u001B[0;34m\u001B[0m\u001B[0m\n\u001B[1;32m     33\u001B[0m         \u001B[0moptimizer\u001B[0m\u001B[0;34m.\u001B[0m\u001B[0mzero_grad\u001B[0m\u001B[0;34m(\u001B[0m\u001B[0;34m)\u001B[0m\u001B[0;34m\u001B[0m\u001B[0;34m\u001B[0m\u001B[0m\n\u001B[0;32m---> 34\u001B[0;31m         \u001B[0mloss\u001B[0m\u001B[0;34m.\u001B[0m\u001B[0mbackward\u001B[0m\u001B[0;34m(\u001B[0m\u001B[0;34m)\u001B[0m\u001B[0;34m\u001B[0m\u001B[0;34m\u001B[0m\u001B[0m\n\u001B[0m\u001B[1;32m     35\u001B[0m         \u001B[0moptimizer\u001B[0m\u001B[0;34m.\u001B[0m\u001B[0mstep\u001B[0m\u001B[0;34m(\u001B[0m\u001B[0;34m)\u001B[0m\u001B[0;34m\u001B[0m\u001B[0;34m\u001B[0m\u001B[0m\n\u001B[1;32m     36\u001B[0m         \u001B[0mtotal_loss\u001B[0m \u001B[0;34m+=\u001B[0m \u001B[0mloss\u001B[0m\u001B[0;34m.\u001B[0m\u001B[0mitem\u001B[0m\u001B[0;34m(\u001B[0m\u001B[0;34m)\u001B[0m\u001B[0;34m\u001B[0m\u001B[0;34m\u001B[0m\u001B[0m\n",
      "\u001B[0;32m/usr/local/lib/python3.7/dist-packages/torch/_tensor.py\u001B[0m in \u001B[0;36mbackward\u001B[0;34m(self, gradient, retain_graph, create_graph, inputs)\u001B[0m\n\u001B[1;32m    394\u001B[0m                 \u001B[0mcreate_graph\u001B[0m\u001B[0;34m=\u001B[0m\u001B[0mcreate_graph\u001B[0m\u001B[0;34m,\u001B[0m\u001B[0;34m\u001B[0m\u001B[0;34m\u001B[0m\u001B[0m\n\u001B[1;32m    395\u001B[0m                 inputs=inputs)\n\u001B[0;32m--> 396\u001B[0;31m         \u001B[0mtorch\u001B[0m\u001B[0;34m.\u001B[0m\u001B[0mautograd\u001B[0m\u001B[0;34m.\u001B[0m\u001B[0mbackward\u001B[0m\u001B[0;34m(\u001B[0m\u001B[0mself\u001B[0m\u001B[0;34m,\u001B[0m \u001B[0mgradient\u001B[0m\u001B[0;34m,\u001B[0m \u001B[0mretain_graph\u001B[0m\u001B[0;34m,\u001B[0m \u001B[0mcreate_graph\u001B[0m\u001B[0;34m,\u001B[0m \u001B[0minputs\u001B[0m\u001B[0;34m=\u001B[0m\u001B[0minputs\u001B[0m\u001B[0;34m)\u001B[0m\u001B[0;34m\u001B[0m\u001B[0;34m\u001B[0m\u001B[0m\n\u001B[0m\u001B[1;32m    397\u001B[0m \u001B[0;34m\u001B[0m\u001B[0m\n\u001B[1;32m    398\u001B[0m     \u001B[0;32mdef\u001B[0m \u001B[0mregister_hook\u001B[0m\u001B[0;34m(\u001B[0m\u001B[0mself\u001B[0m\u001B[0;34m,\u001B[0m \u001B[0mhook\u001B[0m\u001B[0;34m)\u001B[0m\u001B[0;34m:\u001B[0m\u001B[0;34m\u001B[0m\u001B[0;34m\u001B[0m\u001B[0m\n",
      "\u001B[0;32m/usr/local/lib/python3.7/dist-packages/torch/autograd/__init__.py\u001B[0m in \u001B[0;36mbackward\u001B[0;34m(tensors, grad_tensors, retain_graph, create_graph, grad_variables, inputs)\u001B[0m\n\u001B[1;32m    173\u001B[0m     Variable._execution_engine.run_backward(  # Calls into the C++ engine to run the backward pass\n\u001B[1;32m    174\u001B[0m         \u001B[0mtensors\u001B[0m\u001B[0;34m,\u001B[0m \u001B[0mgrad_tensors_\u001B[0m\u001B[0;34m,\u001B[0m \u001B[0mretain_graph\u001B[0m\u001B[0;34m,\u001B[0m \u001B[0mcreate_graph\u001B[0m\u001B[0;34m,\u001B[0m \u001B[0minputs\u001B[0m\u001B[0;34m,\u001B[0m\u001B[0;34m\u001B[0m\u001B[0;34m\u001B[0m\u001B[0m\n\u001B[0;32m--> 175\u001B[0;31m         allow_unreachable=True, accumulate_grad=True)  # Calls into the C++ engine to run the backward pass\n\u001B[0m\u001B[1;32m    176\u001B[0m \u001B[0;34m\u001B[0m\u001B[0m\n\u001B[1;32m    177\u001B[0m def grad(\n",
      "\u001B[0;31mKeyboardInterrupt\u001B[0m: "
     ]
    }
   ]
  },
  {
   "cell_type": "code",
   "source": [],
   "metadata": {
    "id": "N99G1SoxDO_D",
    "executionInfo": {
     "status": "aborted",
     "timestamp": 1660782425045,
     "user_tz": -540,
     "elapsed": 11,
     "user": {
      "displayName": "이현수",
      "userId": "13849497981450636245"
     }
    },
    "pycharm": {
     "name": "#%%\n"
    }
   },
   "execution_count": null,
   "outputs": []
  },
  {
   "cell_type": "code",
   "source": [],
   "metadata": {
    "id": "eUB3hqm8DPBK",
    "executionInfo": {
     "status": "aborted",
     "timestamp": 1660782425046,
     "user_tz": -540,
     "elapsed": 12,
     "user": {
      "displayName": "이현수",
      "userId": "13849497981450636245"
     }
    },
    "pycharm": {
     "name": "#%%\n"
    }
   },
   "execution_count": null,
   "outputs": []
  },
  {
   "cell_type": "code",
   "source": [],
   "metadata": {
    "id": "dYrcXwmPDPCx",
    "executionInfo": {
     "status": "aborted",
     "timestamp": 1660782425046,
     "user_tz": -540,
     "elapsed": 12,
     "user": {
      "displayName": "이현수",
      "userId": "13849497981450636245"
     }
    },
    "pycharm": {
     "name": "#%%\n"
    }
   },
   "execution_count": null,
   "outputs": []
  }
 ]
}